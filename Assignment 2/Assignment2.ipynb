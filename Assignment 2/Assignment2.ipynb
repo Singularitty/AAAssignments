{
 "cells": [
  {
   "cell_type": "code",
   "execution_count": 1,
   "id": "5fcab862",
   "metadata": {},
   "outputs": [],
   "source": [
    "# Imports\n",
    "import pandas as pd\n",
    "import numpy as np\n",
    "import matplotlib.pyplot as plt\n",
    "# Models and selection methods\n",
    "from sklearn.base import clone\n",
    "from sklearn.model_selection import train_test_split, GridSearchCV, cross_val_score\n",
    "# Binary classifier metrics\n",
    "from sklearn.metrics import precision_score, recall_score, f1_score, matthews_corrcoef, confusion_matrix, accuracy_score\n",
    "# Linear regression metrics\n",
    "from sklearn.metrics import explained_variance_score, mean_squared_error, max_error, mean_absolute_error\n",
    "from scipy.stats import pearsonr"
   ]
  },
  {
   "cell_type": "code",
   "execution_count": null,
   "id": "0d0df717",
   "metadata": {},
   "outputs": [],
   "source": [
    "# Estatisticas para classificadores\n",
    "def printClassResults(truth, preds):\n",
    "    print(\"The Accuracy is: %7.4f\" % accuracy_score(truth, preds))\n",
    "    print(\"The Precision is: %7.4f\" % precision_score(truth, preds))\n",
    "    print(\"The Recall is: %7.4f\" % recall_score(truth, preds))\n",
    "    print(\"The F1 score is: %7.4f\" % f1_score(truth, preds))\n",
    "    print(\"The Matthews correlation coefficient is: %7.4f\" % matthews_corrcoef(truth, preds))\n",
    "    print()\n",
    "    print(\"This is the Confusion Matrix\")\n",
    "    print(pd.DataFrame(confusion_matrix(truth, preds)))\n",
    "\n",
    "# Plot das previsoes vs dados reais\n",
    "def displayPlot(preds, truth):\n",
    "    plt.figure(figsize=(5,5))\n",
    "    plt.scatter(preds, truth)\n",
    "    plt.axline((0, 0), slope=1, color=\"red\")\n",
    "    plt.grid()\n",
    "    plt.show()"
   ]
  },
  {
   "cell_type": "markdown",
   "id": "491c9542",
   "metadata": {},
   "source": [
    "## Pré-Processamento dos dados\n",
    "Preparação do dataset - importação, normalização e preenchimento dos missing values"
   ]
  },
  {
   "cell_type": "code",
   "execution_count": 13,
   "id": "650c2619",
   "metadata": {},
   "outputs": [
    {
     "name": "stderr",
     "output_type": "stream",
     "text": [
      "C:\\Users\\jpnev\\AppData\\Local\\Temp\\ipykernel_17392\\3594160568.py:4: FutureWarning: Passing a set as an indexer is deprecated and will raise in a future version. Use a list instead.\n",
      "  X_bio_a=bio_a[set(bio_a.columns)-{'Biodegradable'}]\n"
     ]
    }
   ],
   "source": [
    "#Criar dataframe\n",
    "bio_a = pd.read_csv('biodegradable_a.csv')\n",
    "#Separação das 41 variáveis do y\n",
    "X_bio_a=bio_a[set(bio_a.columns)-{'Biodegradable'}]\n",
    "y_bio_a=bio_a['Biodegradable']\n",
    "#Converter para numpy array\n",
    "Xc_bio= X_bio_a.to_numpy()\n",
    "yc_bio= y_bio_a.to_numpy()\n",
    "# Divisão do dataset em training set e independent validation set\n",
    "X_bio_train, X_bio_test, y_bio_train, y_bio_test = train_test_split(Xc_bio, yc_bio, test_size=0.25, random_state=512)"
   ]
  },
  {
   "cell_type": "code",
   "execution_count": null,
   "id": "6352f749",
   "metadata": {},
   "outputs": [],
   "source": [
    "#Passemos à normalização dos dados"
   ]
  },
  {
   "cell_type": "code",
   "execution_count": null,
   "id": "23553b60",
   "metadata": {},
   "outputs": [],
   "source": [
    "#Tratamento dos Missing values -> Utilizar Imputação de KNN? E as categóricas -> se calhar simple imput?"
   ]
  },
  {
   "cell_type": "code",
   "execution_count": null,
   "id": "d88ad1ce",
   "metadata": {},
   "outputs": [],
   "source": []
  },
  {
   "cell_type": "code",
   "execution_count": null,
   "id": "689a3a4a",
   "metadata": {},
   "outputs": [],
   "source": []
  }
 ],
 "metadata": {
  "kernelspec": {
   "display_name": "Python 3 (ipykernel)",
   "language": "python",
   "name": "python3"
  },
  "language_info": {
   "codemirror_mode": {
    "name": "ipython",
    "version": 3
   },
   "file_extension": ".py",
   "mimetype": "text/x-python",
   "name": "python",
   "nbconvert_exporter": "python",
   "pygments_lexer": "ipython3",
   "version": "3.9.12"
  }
 },
 "nbformat": 4,
 "nbformat_minor": 5
}
