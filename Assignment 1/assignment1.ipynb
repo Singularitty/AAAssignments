{
 "cells": [
  {
   "cell_type": "markdown",
   "metadata": {},
   "source": [
    "# Aprendizagem Automática - Assignment 1 "
   ]
  },
  {
   "cell_type": "code",
   "execution_count": 34,
   "metadata": {},
   "outputs": [],
   "source": [
    "# Imports\n",
    "import pandas as pd\n",
    "import numpy as np\n",
    "import matplotlib.pyplot as plt\n",
    "\n",
    "# Models and selection methods\n",
    "from sklearn.tree import DecisionTreeRegressor, DecisionTreeClassifier, plot_tree\n",
    "from sklearn.model_selection import KFold, train_test_split, GridSearchCV\n",
    "from sklearn.linear_model import Ridge, Lasso\n",
    "\n",
    "# Binary classifier metrics\n",
    "from sklearn.metrics import precision_score, recall_score, f1_score, matthews_corrcoef, confusion_matrix\n",
    "\n",
    "# Linear regression metrics\n",
    "from sklearn.metrics import explained_variance_score, mean_squared_error, max_error, mean_absolute_error\n",
    "from scipy.stats import pearsonr"
   ]
  },
  {
   "cell_type": "markdown",
   "metadata": {},
   "source": [
    "Importação do dataset parkinsons"
   ]
  },
  {
   "cell_type": "code",
   "execution_count": 28,
   "metadata": {},
   "outputs": [],
   "source": [
    "parkinsons_data = pd.read_csv(\"parkinsons_updrs.data\")"
   ]
  },
  {
   "cell_type": "markdown",
   "metadata": {},
   "source": [
    "## Objective 1\n",
    "Preparação do dataset"
   ]
  },
  {
   "cell_type": "code",
   "execution_count": 3,
   "metadata": {},
   "outputs": [],
   "source": [
    "# Copiar o dataframe original\n",
    "parkinsons_objective1 = parkinsons_data.copy()\n",
    "# Remover a coluna total_UPDRS e subject#\n",
    "parkinsons_objective1.drop(columns=[\"subject#\",\"total_UPDRS\"], inplace=True)\n",
    "\n",
    "# Divisão do dataset em variaveis independentes e dependentes\n",
    "X_obj1 = parkinsons_objective1[set(parkinsons_objective1.columns) - {\"motor_UPDRS\"}]\n",
    "y_obj1 = parkinsons_objective1[\"motor_UPDRS\"]\n",
    "\n",
    "# Converter para np array\n",
    "Xc_obj1 = X_obj1.to_numpy()\n",
    "yc_obj1 = y_obj1.to_numpy()\n",
    "\n",
    "# Divisão do dataset em training set e independent validation set\n",
    "X_obj1_TRAIN, X_obj1_IVS, y_obj1_TRAIN, y_obj1_IVS = train_test_split(Xc_obj1, yc_obj1, test_size=0.10, random_state=314)"
   ]
  },
  {
   "cell_type": "markdown",
   "metadata": {},
   "source": [
    "### Fitting e validação dos modelos"
   ]
  },
  {
   "cell_type": "code",
   "execution_count": 5,
   "metadata": {},
   "outputs": [],
   "source": [
    "# NOTA: é preciso fazer isto para diferentes hyperparameters e guardar\n",
    "#       as metricas para cada um, assim podemos comparar depois e determinar\n",
    "#       qual os melhores hyperparameters antes de validar-mos o modelo com os\n",
    "#       dados IVS. Depois de fazer-mos isto para o decision tree regressor, temos\n",
    "#       de o fazer para o linear regressor que vamos dar na aula de amanha"
   ]
  },
  {
   "cell_type": "markdown",
   "metadata": {},
   "source": [
    "##### Decision Tree Regressor"
   ]
  },
  {
   "cell_type": "markdown",
   "metadata": {},
   "source": [
    "N-Cross validation"
   ]
  },
  {
   "cell_type": "code",
   "execution_count": 83,
   "metadata": {},
   "outputs": [
    {
     "data": {
      "text/plain": [
       "GridSearchCV(cv=10, estimator=DecisionTreeRegressor(), n_jobs=-1,\n",
       "             param_grid=[{'max_depth': [6, 8, 10, 12, 14, 16, 18, 20, 22, 24,\n",
       "                                        26, 28, 30],\n",
       "                          'min_samples_leaf': [1, 5, 10, 20],\n",
       "                          'min_samples_split': [2, 5, 10, 20]}],\n",
       "             scoring='neg_mean_squared_error')"
      ]
     },
     "execution_count": 83,
     "metadata": {},
     "output_type": "execute_result"
    }
   ],
   "source": [
    "params = [\n",
    "    {\"max_depth\" : [6,8,10,12,14,16,18,20,22,24,26,28,30],\n",
    "    \"min_samples_leaf\" : [1,5,10,20],\n",
    "    \"min_samples_split\" : [2,5,10,20]}\n",
    "]\n",
    "\n",
    "\n",
    "grid_search = GridSearchCV(\n",
    "    DecisionTreeRegressor(), params, scoring=\"neg_mean_squared_error\", cv=10, n_jobs=-1\n",
    ")\n",
    "\n",
    "grid_search.fit(X_obj1_TRAIN, y_obj1_TRAIN)"
   ]
  },
  {
   "cell_type": "code",
   "execution_count": 84,
   "metadata": {},
   "outputs": [
    {
     "data": {
      "text/plain": [
       "{'max_depth': 22, 'min_samples_leaf': 1, 'min_samples_split': 10}"
      ]
     },
     "execution_count": 84,
     "metadata": {},
     "output_type": "execute_result"
    }
   ],
   "source": [
    "grid_search.best_params_"
   ]
  },
  {
   "cell_type": "code",
   "execution_count": 85,
   "metadata": {},
   "outputs": [
    {
     "data": {
      "text/plain": [
       "-5.631573486324941"
      ]
     },
     "execution_count": 85,
     "metadata": {},
     "output_type": "execute_result"
    }
   ],
   "source": [
    "grid_search.best_score_"
   ]
  },
  {
   "cell_type": "code",
   "execution_count": 92,
   "metadata": {},
   "outputs": [],
   "source": [
    "TRUTH=None\n",
    "PREDS=None\n",
    "\n",
    "for train_index, test_index in kf1.split(X_obj1_TRAIN):\n",
    "    X_train, X_test = X_obj1_TRAIN[train_index], X_obj1_TRAIN[test_index]\n",
    "    y_train, y_test = y_obj1_TRAIN[train_index], y_obj1_TRAIN[test_index]\n",
    "    dtr_obj1 = DecisionTreeRegressor(max_depth=22, min_samples_leaf=1, min_samples_split=10)\n",
    "    dtr_obj1.fit(X_train, y_train)\n",
    "    preds = dtr_obj1.predict(X_test)\n",
    "    if TRUTH is None:\n",
    "        PREDS=preds\n",
    "        TRUTH=y_test\n",
    "    else:\n",
    "        PREDS=np.hstack((PREDS, preds))\n",
    "        TRUTH=np.hstack((TRUTH, y_test))"
   ]
  },
  {
   "cell_type": "code",
   "execution_count": 93,
   "metadata": {},
   "outputs": [
    {
     "name": "stdout",
     "output_type": "stream",
     "text": [
      "The RVE is:  0.9200029186810572\n",
      "The rmse is:  2.301280878761201\n",
      "The Correlation Score is is: 0.9597 (p-value=0.000000e+00)\n",
      "\n",
      "The Maximum Error is is:  26.300400000000003\n",
      "The Mean Absolute Error is:  0.7666607590931843\n"
     ]
    }
   ],
   "source": [
    "print(\"The RVE is: \", explained_variance_score(TRUTH, PREDS))\n",
    "print(\"The rmse is: \", mean_squared_error(TRUTH, PREDS, squared=False))\n",
    "corr, pval=pearsonr(TRUTH, PREDS)\n",
    "print(\"The Correlation Score is is: %6.4f (p-value=%e)\\n\"%(corr,pval))\n",
    "\n",
    "print(\"The Maximum Error is is: \", max_error(TRUTH, PREDS))\n",
    "print(\"The Mean Absolute Error is: \", mean_absolute_error(TRUTH, PREDS))"
   ]
  },
  {
   "cell_type": "code",
   "execution_count": 94,
   "metadata": {},
   "outputs": [],
   "source": [
    "dtc_obj1_ivs = DecisionTreeRegressor(max_depth=28, min_samples_leaf=5, min_samples_split=5)\n",
    "dtc_obj1_ivs.fit(X_obj1_TRAIN,y_obj1_TRAIN)\n",
    "ivs_obj1_preds = dtc_obj1_ivs.predict(X_obj1_IVS)"
   ]
  },
  {
   "cell_type": "code",
   "execution_count": 95,
   "metadata": {},
   "outputs": [
    {
     "name": "stdout",
     "output_type": "stream",
     "text": [
      "The RVE is:  0.8580092408886714\n",
      "The rmse is:  3.0440803805845937\n",
      "The Correlation Score is is: 0.9278 (p-value=4.800128e-253)\n",
      "\n",
      "The Maximum Error is is:  19.635428571428573\n",
      "The Mean Absolute Error is:  1.090232550750459\n"
     ]
    }
   ],
   "source": [
    "print(\"The RVE is: \", explained_variance_score(y_obj1_IVS, ivs_obj1_preds))\n",
    "print(\"The rmse is: \", mean_squared_error(y_obj1_IVS, ivs_obj1_preds, squared=False))\n",
    "corr, pval=pearsonr(y_obj1_IVS, ivs_obj1_preds)\n",
    "print(\"The Correlation Score is is: %6.4f (p-value=%e)\\n\"%(corr,pval))\n",
    "\n",
    "print(\"The Maximum Error is is: \", max_error(y_obj1_IVS, ivs_obj1_preds))\n",
    "print(\"The Mean Absolute Error is: \", mean_absolute_error(y_obj1_IVS, ivs_obj1_preds))"
   ]
  },
  {
   "cell_type": "code",
   "execution_count": 96,
   "metadata": {},
   "outputs": [
    {
     "data": {
      "image/png": "[encoded data removed]",
      "text/plain": [
       "<Figure size 360x360 with 1 Axes>"
      ]
     },
     "metadata": {
      "needs_background": "light"
     },
     "output_type": "display_data"
    }
   ],
   "source": [
    "plt.figure(figsize=(5,5))\n",
    "plt.scatter(y_obj1_IVS, ivs_obj1_preds)\n",
    "plt.plot((5, 40), (5,40), c=\"r\")\n",
    "plt.grid()\n",
    "plt.show()"
   ]
  },
  {
   "cell_type": "markdown",
   "metadata": {},
   "source": [
    "Linear regressor"
   ]
  },
  {
   "cell_type": "code",
   "execution_count": 77,
   "metadata": {},
   "outputs": [
    {
     "data": {
      "text/plain": [
       "GridSearchCV(cv=10, estimator=Lasso(), n_jobs=-1,\n",
       "             param_grid=[{'alpha': [0.001, 0.002, 0.003, 0.004, 0.005, 0.006,\n",
       "                                    0.007, 0.008, 0.009000000000000001, 0.01,\n",
       "                                    0.011, 0.012, 0.013000000000000001, 0.014,\n",
       "                                    0.015, 0.016, 0.017, 0.018000000000000002,\n",
       "                                    0.019, 0.02, 0.021, 0.022, 0.023, 0.024,\n",
       "                                    0.025, 0.026000000000000002, 0.027, 0.028,\n",
       "                                    0.029, 0.03, ...],\n",
       "                          'normalize': [True, False]}],\n",
       "             scoring='neg_mean_squared_error')"
      ]
     },
     "execution_count": 77,
     "metadata": {},
     "output_type": "execute_result"
    }
   ],
   "source": [
    "params_linear = [\n",
    "    {\"alpha\" : [x*0.001 for x in range(1,100)],\n",
    "    \"normalize\" : [True, False]}\n",
    "]\n",
    "\n",
    "grid_search2 = GridSearchCV(\n",
    "    Lasso(), params_linear, scoring=\"neg_mean_squared_error\", cv=10, n_jobs=-1\n",
    ")\n",
    "\n",
    "grid_search2.fit(X_obj1_TRAIN, y_obj1_TRAIN)"
   ]
  },
  {
   "cell_type": "code",
   "execution_count": 78,
   "metadata": {},
   "outputs": [
    {
     "data": {
      "text/plain": [
       "{'alpha': 0.001, 'normalize': True}"
      ]
     },
     "execution_count": 78,
     "metadata": {},
     "output_type": "execute_result"
    }
   ],
   "source": [
    "grid_search2.best_params_"
   ]
  },
  {
   "cell_type": "code",
   "execution_count": 80,
   "metadata": {},
   "outputs": [
    {
     "data": {
      "text/plain": [
       "-56.272519542686304"
      ]
     },
     "execution_count": 80,
     "metadata": {},
     "output_type": "execute_result"
    }
   ],
   "source": [
    "grid_search2.best_score_"
   ]
  },
  {
   "cell_type": "markdown",
   "metadata": {},
   "source": [
    "## Objective 2\n",
    "Preparação do dataset"
   ]
  },
  {
   "cell_type": "code",
   "execution_count": 31,
   "metadata": {},
   "outputs": [],
   "source": [
    "# Copiar o dataframe original\n",
    "parkinsons_objective2 = parkinsons_data.copy()\n",
    "# Remover a coluna subject# e motor_UPDRS\n",
    "parkinsons_objective2.drop(columns=[\"subject#\",\"motor_UPDRS\"], inplace=True)\n",
    "# Transformação de total_UPDRS em variavel binaria\n",
    "parkinsons_objective2[\"total_UPDRS\"] = parkinsons_objective2[\"total_UPDRS\"].apply(lambda x : \"positive\" if x > 40 else \"negative\")\n",
    "\n",
    "X_obj2 = parkinsons_objective2[set(parkinsons_objective2.columns) - {\"total_UPDRS\"}]\n",
    "y_obj2 = parkinsons_objective2[\"total_UPDRS\"]\n",
    "\n",
    "# Converter para np array\n",
    "Xc_obj2 = X_obj2.to_numpy()\n",
    "yc_obj2 = y_obj2.to_numpy()"
   ]
  }
 ],
 "metadata": {
  "kernelspec": {
   "display_name": "Python 3.9.7 ('base')",
   "language": "python",
   "name": "python3"
  },
  "language_info": {
   "codemirror_mode": {
    "name": "ipython",
    "version": 3
   },
   "file_extension": ".py",
   "mimetype": "text/x-python",
   "name": "python",
   "nbconvert_exporter": "python",
   "pygments_lexer": "ipython3",
   "version": "3.9.7"
  },
  "orig_nbformat": 4,
  "vscode": {
   "interpreter": {
    "hash": "ca0a6ed6c3687464969dd6147ab8a98b55d02ef7a9aec76841b10aa7e05a39c3"
   }
  }
 },
 "nbformat": 4,
 "nbformat_minor": 2
}
