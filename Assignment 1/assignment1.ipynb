{
 "cells": [
  {
   "cell_type": "markdown",
   "metadata": {},
   "source": [
    "# Aprendizagem Automática - Assignment 1 "
   ]
  },
  {
   "cell_type": "code",
   "execution_count": 18,
   "metadata": {},
   "outputs": [],
   "source": [
    "# Imports\n",
    "import pandas as pd\n",
    "import numpy as np\n",
    "import matplotlib.pyplot as plt\n",
    "\n",
    "# Models and selection methods\n",
    "from sklearn.tree import DecisionTreeRegressor, DecisionTreeClassifier, plot_tree\n",
    "from sklearn.model_selection import KFold, train_test_split, GridSearchCV\n",
    "from sklearn.linear_model import LinearRegression\n",
    "from sklearn.linear_model import Ridge, Lasso\n",
    "\n",
    "# Binary classifier metrics\n",
    "from sklearn.metrics import precision_score, recall_score, f1_score, matthews_corrcoef, confusion_matrix\n",
    "\n",
    "# Linear regression metrics\n",
    "from sklearn.metrics import explained_variance_score, mean_squared_error, max_error, mean_absolute_error\n",
    "from scipy.stats import pearsonr\n",
    "\n",
    "def printRegStatistics(truth, preds):\n",
    "    print(\"The RVE is: \", explained_variance_score(truth, preds))\n",
    "    print(\"The rmse is: \", mean_squared_error(truth, preds, squared=False))\n",
    "    corr, pval = pearsonr(truth, preds)\n",
    "    print(\"The Correlation Score is is: %6.4f (p-value=%e)\\n\"%(corr,pval))\n",
    "    print(\"The Maximum Error is is: \", max_error(truth, preds))\n",
    "    print(\"The Mean Absolute Error is: \", mean_absolute_error(truth, preds))"
   ]
  },
  {
   "cell_type": "markdown",
   "metadata": {},
   "source": [
    "Importação do dataset parkinsons"
   ]
  },
  {
   "cell_type": "code",
   "execution_count": 19,
   "metadata": {},
   "outputs": [
    {
     "data": {
      "text/plain": "      subject#  age  sex  test_time  motor_UPDRS  total_UPDRS  Jitter(%)  \\\n0            1   72    0     5.6431       28.199       34.398    0.00662   \n1            1   72    0    12.6660       28.447       34.894    0.00300   \n2            1   72    0    19.6810       28.695       35.389    0.00481   \n3            1   72    0    25.6470       28.905       35.810    0.00528   \n4            1   72    0    33.6420       29.187       36.375    0.00335   \n...        ...  ...  ...        ...          ...          ...        ...   \n5870        42   61    0   142.7900       22.485       33.485    0.00406   \n5871        42   61    0   149.8400       21.988       32.988    0.00297   \n5872        42   61    0   156.8200       21.495       32.495    0.00349   \n5873        42   61    0   163.7300       21.007       32.007    0.00281   \n5874        42   61    0   170.7300       20.513       31.513    0.00282   \n\n      Jitter(Abs)  Jitter:RAP  Jitter:PPQ5  ...  Shimmer(dB)  Shimmer:APQ3  \\\n0        0.000034     0.00401      0.00317  ...        0.230       0.01438   \n1        0.000017     0.00132      0.00150  ...        0.179       0.00994   \n2        0.000025     0.00205      0.00208  ...        0.181       0.00734   \n3        0.000027     0.00191      0.00264  ...        0.327       0.01106   \n4        0.000020     0.00093      0.00130  ...        0.176       0.00679   \n...           ...         ...          ...  ...          ...           ...   \n5870     0.000031     0.00167      0.00168  ...        0.160       0.00973   \n5871     0.000025     0.00119      0.00147  ...        0.215       0.01052   \n5872     0.000025     0.00152      0.00187  ...        0.244       0.01371   \n5873     0.000020     0.00128      0.00151  ...        0.131       0.00693   \n5874     0.000021     0.00135      0.00166  ...        0.171       0.00946   \n\n      Shimmer:APQ5  Shimmer:APQ11  Shimmer:DDA       NHR     HNR     RPDE  \\\n0          0.01309        0.01662      0.04314  0.014290  21.640  0.41888   \n1          0.01072        0.01689      0.02982  0.011112  27.183  0.43493   \n2          0.00844        0.01458      0.02202  0.020220  23.047  0.46222   \n3          0.01265        0.01963      0.03317  0.027837  24.445  0.48730   \n4          0.00929        0.01819      0.02036  0.011625  26.126  0.47188   \n...            ...            ...          ...       ...     ...      ...   \n5870       0.01133        0.01549      0.02920  0.025137  22.369  0.64215   \n5871       0.01277        0.01904      0.03157  0.011927  22.886  0.52598   \n5872       0.01456        0.01877      0.04112  0.017701  25.065  0.47792   \n5873       0.00870        0.01307      0.02078  0.007984  24.422  0.56865   \n5874       0.01154        0.01470      0.02839  0.008172  23.259  0.58608   \n\n          DFA      PPE  \n0     0.54842  0.16006  \n1     0.56477  0.10810  \n2     0.54405  0.21014  \n3     0.57794  0.33277  \n4     0.56122  0.19361  \n...       ...      ...  \n5870  0.55314  0.21367  \n5871  0.56518  0.12621  \n5872  0.57888  0.14157  \n5873  0.56327  0.14204  \n5874  0.57077  0.15336  \n\n[5875 rows x 22 columns]",
      "text/html": "<div>\n<style scoped>\n    .dataframe tbody tr th:only-of-type {\n        vertical-align: middle;\n    }\n\n    .dataframe tbody tr th {\n        vertical-align: top;\n    }\n\n    .dataframe thead th {\n        text-align: right;\n    }\n</style>\n<table border=\"1\" class=\"dataframe\">\n  <thead>\n    <tr style=\"text-align: right;\">\n      <th></th>\n      <th>subject#</th>\n      <th>age</th>\n      <th>sex</th>\n      <th>test_time</th>\n      <th>motor_UPDRS</th>\n      <th>total_UPDRS</th>\n      <th>Jitter(%)</th>\n      <th>Jitter(Abs)</th>\n      <th>Jitter:RAP</th>\n      <th>Jitter:PPQ5</th>\n      <th>...</th>\n      <th>Shimmer(dB)</th>\n      <th>Shimmer:APQ3</th>\n      <th>Shimmer:APQ5</th>\n      <th>Shimmer:APQ11</th>\n      <th>Shimmer:DDA</th>\n      <th>NHR</th>\n      <th>HNR</th>\n      <th>RPDE</th>\n      <th>DFA</th>\n      <th>PPE</th>\n    </tr>\n  </thead>\n  <tbody>\n    <tr>\n      <th>0</th>\n      <td>1</td>\n      <td>72</td>\n      <td>0</td>\n      <td>5.6431</td>\n      <td>28.199</td>\n      <td>34.398</td>\n      <td>0.00662</td>\n      <td>0.000034</td>\n      <td>0.00401</td>\n      <td>0.00317</td>\n      <td>...</td>\n      <td>0.230</td>\n      <td>0.01438</td>\n      <td>0.01309</td>\n      <td>0.01662</td>\n      <td>0.04314</td>\n      <td>0.014290</td>\n      <td>21.640</td>\n      <td>0.41888</td>\n      <td>0.54842</td>\n      <td>0.16006</td>\n    </tr>\n    <tr>\n      <th>1</th>\n      <td>1</td>\n      <td>72</td>\n      <td>0</td>\n      <td>12.6660</td>\n      <td>28.447</td>\n      <td>34.894</td>\n      <td>0.00300</td>\n      <td>0.000017</td>\n      <td>0.00132</td>\n      <td>0.00150</td>\n      <td>...</td>\n      <td>0.179</td>\n      <td>0.00994</td>\n      <td>0.01072</td>\n      <td>0.01689</td>\n      <td>0.02982</td>\n      <td>0.011112</td>\n      <td>27.183</td>\n      <td>0.43493</td>\n      <td>0.56477</td>\n      <td>0.10810</td>\n    </tr>\n    <tr>\n      <th>2</th>\n      <td>1</td>\n      <td>72</td>\n      <td>0</td>\n      <td>19.6810</td>\n      <td>28.695</td>\n      <td>35.389</td>\n      <td>0.00481</td>\n      <td>0.000025</td>\n      <td>0.00205</td>\n      <td>0.00208</td>\n      <td>...</td>\n      <td>0.181</td>\n      <td>0.00734</td>\n      <td>0.00844</td>\n      <td>0.01458</td>\n      <td>0.02202</td>\n      <td>0.020220</td>\n      <td>23.047</td>\n      <td>0.46222</td>\n      <td>0.54405</td>\n      <td>0.21014</td>\n    </tr>\n    <tr>\n      <th>3</th>\n      <td>1</td>\n      <td>72</td>\n      <td>0</td>\n      <td>25.6470</td>\n      <td>28.905</td>\n      <td>35.810</td>\n      <td>0.00528</td>\n      <td>0.000027</td>\n      <td>0.00191</td>\n      <td>0.00264</td>\n      <td>...</td>\n      <td>0.327</td>\n      <td>0.01106</td>\n      <td>0.01265</td>\n      <td>0.01963</td>\n      <td>0.03317</td>\n      <td>0.027837</td>\n      <td>24.445</td>\n      <td>0.48730</td>\n      <td>0.57794</td>\n      <td>0.33277</td>\n    </tr>\n    <tr>\n      <th>4</th>\n      <td>1</td>\n      <td>72</td>\n      <td>0</td>\n      <td>33.6420</td>\n      <td>29.187</td>\n      <td>36.375</td>\n      <td>0.00335</td>\n      <td>0.000020</td>\n      <td>0.00093</td>\n      <td>0.00130</td>\n      <td>...</td>\n      <td>0.176</td>\n      <td>0.00679</td>\n      <td>0.00929</td>\n      <td>0.01819</td>\n      <td>0.02036</td>\n      <td>0.011625</td>\n      <td>26.126</td>\n      <td>0.47188</td>\n      <td>0.56122</td>\n      <td>0.19361</td>\n    </tr>\n    <tr>\n      <th>...</th>\n      <td>...</td>\n      <td>...</td>\n      <td>...</td>\n      <td>...</td>\n      <td>...</td>\n      <td>...</td>\n      <td>...</td>\n      <td>...</td>\n      <td>...</td>\n      <td>...</td>\n      <td>...</td>\n      <td>...</td>\n      <td>...</td>\n      <td>...</td>\n      <td>...</td>\n      <td>...</td>\n      <td>...</td>\n      <td>...</td>\n      <td>...</td>\n      <td>...</td>\n      <td>...</td>\n    </tr>\n    <tr>\n      <th>5870</th>\n      <td>42</td>\n      <td>61</td>\n      <td>0</td>\n      <td>142.7900</td>\n      <td>22.485</td>\n      <td>33.485</td>\n      <td>0.00406</td>\n      <td>0.000031</td>\n      <td>0.00167</td>\n      <td>0.00168</td>\n      <td>...</td>\n      <td>0.160</td>\n      <td>0.00973</td>\n      <td>0.01133</td>\n      <td>0.01549</td>\n      <td>0.02920</td>\n      <td>0.025137</td>\n      <td>22.369</td>\n      <td>0.64215</td>\n      <td>0.55314</td>\n      <td>0.21367</td>\n    </tr>\n    <tr>\n      <th>5871</th>\n      <td>42</td>\n      <td>61</td>\n      <td>0</td>\n      <td>149.8400</td>\n      <td>21.988</td>\n      <td>32.988</td>\n      <td>0.00297</td>\n      <td>0.000025</td>\n      <td>0.00119</td>\n      <td>0.00147</td>\n      <td>...</td>\n      <td>0.215</td>\n      <td>0.01052</td>\n      <td>0.01277</td>\n      <td>0.01904</td>\n      <td>0.03157</td>\n      <td>0.011927</td>\n      <td>22.886</td>\n      <td>0.52598</td>\n      <td>0.56518</td>\n      <td>0.12621</td>\n    </tr>\n    <tr>\n      <th>5872</th>\n      <td>42</td>\n      <td>61</td>\n      <td>0</td>\n      <td>156.8200</td>\n      <td>21.495</td>\n      <td>32.495</td>\n      <td>0.00349</td>\n      <td>0.000025</td>\n      <td>0.00152</td>\n      <td>0.00187</td>\n      <td>...</td>\n      <td>0.244</td>\n      <td>0.01371</td>\n      <td>0.01456</td>\n      <td>0.01877</td>\n      <td>0.04112</td>\n      <td>0.017701</td>\n      <td>25.065</td>\n      <td>0.47792</td>\n      <td>0.57888</td>\n      <td>0.14157</td>\n    </tr>\n    <tr>\n      <th>5873</th>\n      <td>42</td>\n      <td>61</td>\n      <td>0</td>\n      <td>163.7300</td>\n      <td>21.007</td>\n      <td>32.007</td>\n      <td>0.00281</td>\n      <td>0.000020</td>\n      <td>0.00128</td>\n      <td>0.00151</td>\n      <td>...</td>\n      <td>0.131</td>\n      <td>0.00693</td>\n      <td>0.00870</td>\n      <td>0.01307</td>\n      <td>0.02078</td>\n      <td>0.007984</td>\n      <td>24.422</td>\n      <td>0.56865</td>\n      <td>0.56327</td>\n      <td>0.14204</td>\n    </tr>\n    <tr>\n      <th>5874</th>\n      <td>42</td>\n      <td>61</td>\n      <td>0</td>\n      <td>170.7300</td>\n      <td>20.513</td>\n      <td>31.513</td>\n      <td>0.00282</td>\n      <td>0.000021</td>\n      <td>0.00135</td>\n      <td>0.00166</td>\n      <td>...</td>\n      <td>0.171</td>\n      <td>0.00946</td>\n      <td>0.01154</td>\n      <td>0.01470</td>\n      <td>0.02839</td>\n      <td>0.008172</td>\n      <td>23.259</td>\n      <td>0.58608</td>\n      <td>0.57077</td>\n      <td>0.15336</td>\n    </tr>\n  </tbody>\n</table>\n<p>5875 rows × 22 columns</p>\n</div>"
     },
     "execution_count": 19,
     "metadata": {},
     "output_type": "execute_result"
    }
   ],
   "source": [
    "parkinsons_data = pd.read_csv(\"parkinsons_updrs.data\")\n",
    "parkinsons_data"
   ]
  },
  {
   "cell_type": "markdown",
   "metadata": {},
   "source": [
    "## Objective 1\n",
    "Preparação do dataset"
   ]
  },
  {
   "cell_type": "code",
   "execution_count": 20,
   "metadata": {},
   "outputs": [
    {
     "name": "stderr",
     "output_type": "stream",
     "text": [
      "C:\\Users\\Ariana Dias\\AppData\\Local\\Temp\\ipykernel_3296\\3412738970.py:8: FutureWarning: Passing a set as an indexer is deprecated and will raise in a future version. Use a list instead.\n",
      "  X_obj1 = parkinsons_objective1[set(parkinsons_objective1.columns) - {\"motor_UPDRS\"}]\n"
     ]
    }
   ],
   "source": [
    "# Copiar o dataframe original\n",
    "parkinsons_objective1 = parkinsons_data.copy()\n",
    "\n",
    "# Remover a coluna total_UPDRS e subject#\n",
    "parkinsons_objective1.drop(columns=[\"subject#\",\"total_UPDRS\"], inplace=True)\n",
    "\n",
    "# Divisão do dataset em variaveis independentes e dependentes\n",
    "X_obj1 = parkinsons_objective1[set(parkinsons_objective1.columns) - {\"motor_UPDRS\"}]\n",
    "y_obj1 = parkinsons_objective1[\"motor_UPDRS\"]\n",
    "\n",
    "# Converter para np array\n",
    "Xc_obj1 = X_obj1.to_numpy()\n",
    "yc_obj1 = y_obj1.to_numpy()\n",
    "\n",
    "# Divisão do dataset em training set e independent validation set\n",
    "X_obj1_TRAIN, X_obj1_IVS, y_obj1_TRAIN, y_obj1_IVS = train_test_split(Xc_obj1, yc_obj1, test_size=0.10, random_state=314)"
   ]
  },
  {
   "cell_type": "markdown",
   "metadata": {},
   "source": [
    "### Fitting e validação dos modelos"
   ]
  },
  {
   "cell_type": "markdown",
   "metadata": {},
   "source": [
    "N-Fold split"
   ]
  },
  {
   "cell_type": "code",
   "execution_count": 21,
   "metadata": {},
   "outputs": [
    {
     "data": {
      "text/plain": "16"
     },
     "execution_count": 21,
     "metadata": {},
     "output_type": "execute_result"
    }
   ],
   "source": [
    "kf1 = KFold(n_splits=16, shuffle=True, random_state = 274)\n",
    "kf1.get_n_splits(X_obj1_TRAIN)"
   ]
  },
  {
   "cell_type": "markdown",
   "metadata": {},
   "source": [
    "##### Decision Tree Regressor"
   ]
  },
  {
   "cell_type": "markdown",
   "metadata": {},
   "source": [
    "N-Cross validation"
   ]
  },
  {
   "cell_type": "code",
   "execution_count": 22,
   "metadata": {},
   "outputs": [
    {
     "data": {
      "text/plain": "GridSearchCV(cv=10, estimator=DecisionTreeRegressor(), n_jobs=-1,\n             param_grid=[{'max_depth': [6, 8, 10, 12, 14, 16, 18, 20, 22, 24,\n                                        26, 28, 30],\n                          'min_samples_leaf': [1, 5, 10, 20],\n                          'min_samples_split': [2, 5, 10, 20]}],\n             scoring='neg_mean_squared_error')"
     },
     "execution_count": 22,
     "metadata": {},
     "output_type": "execute_result"
    }
   ],
   "source": [
    "params = [\n",
    "    {\"max_depth\" : [6,8,10,12,14,16,18,20,22,24,26,28,30],\n",
    "    \"min_samples_leaf\" : [1,5,10,20],\n",
    "    \"min_samples_split\" : [2,5,10,20]}\n",
    "]\n",
    "\n",
    "\n",
    "grid_search = GridSearchCV(\n",
    "    DecisionTreeRegressor(), params, scoring=\"neg_mean_squared_error\", cv=10, n_jobs=-1\n",
    ")\n",
    "\n",
    "grid_search.fit(X_obj1_TRAIN, y_obj1_TRAIN)"
   ]
  },
  {
   "cell_type": "code",
   "execution_count": 23,
   "metadata": {},
   "outputs": [
    {
     "data": {
      "text/plain": "{'max_depth': 20, 'min_samples_leaf': 1, 'min_samples_split': 10}"
     },
     "execution_count": 23,
     "metadata": {},
     "output_type": "execute_result"
    }
   ],
   "source": [
    "grid_search.best_params_"
   ]
  },
  {
   "cell_type": "code",
   "execution_count": 24,
   "metadata": {},
   "outputs": [
    {
     "data": {
      "text/plain": "-5.727873701793619"
     },
     "execution_count": 24,
     "metadata": {},
     "output_type": "execute_result"
    }
   ],
   "source": [
    "grid_search.best_score_"
   ]
  },
  {
   "cell_type": "code",
   "execution_count": 25,
   "metadata": {},
   "outputs": [],
   "source": [
    "TRUTH=None\n",
    "PREDS=None\n",
    "\n",
    "for train_index, test_index in kf1.split(X_obj1_TRAIN):\n",
    "    X_train, X_test = X_obj1_TRAIN[train_index], X_obj1_TRAIN[test_index]\n",
    "    y_train, y_test = y_obj1_TRAIN[train_index], y_obj1_TRAIN[test_index]\n",
    "    dtr_obj1 = DecisionTreeRegressor(max_depth=22, min_samples_leaf=1, min_samples_split=10)\n",
    "    dtr_obj1.fit(X_train, y_train)\n",
    "    preds = dtr_obj1.predict(X_test)\n",
    "    if TRUTH is None:\n",
    "        PREDS=preds\n",
    "        TRUTH=y_test\n",
    "    else:\n",
    "        PREDS=np.hstack((PREDS, preds))\n",
    "        TRUTH=np.hstack((TRUTH, y_test))\n"
   ]
  },
  {
   "cell_type": "code",
   "execution_count": 26,
   "metadata": {},
   "outputs": [
    {
     "name": "stdout",
     "output_type": "stream",
     "text": [
      "The RVE is:  0.9196094986807983\n",
      "The rmse is:  2.3068721146805915\n",
      "The Correlation Score is is: 0.9595 (p-value=0.000000e+00)\n",
      "\n",
      "The Maximum Error is is:  26.991375000000005\n",
      "The Mean Absolute Error is:  0.7756855042678672\n"
     ]
    }
   ],
   "source": [
    "printRegStatistics(TRUTH,PREDS)"
   ]
  },
  {
   "cell_type": "code",
   "execution_count": 27,
   "metadata": {},
   "outputs": [
    {
     "data": {
      "text/plain": "<Figure size 360x360 with 1 Axes>",
      "image/png": "[encoded data removed]"
     },
     "metadata": {
      "needs_background": "light"
     },
     "output_type": "display_data"
    }
   ],
   "source": [
    "plt.figure(figsize=(5,5))\n",
    "plt.scatter(PREDS, TRUTH)\n",
    "plt.plot((5, 40), (5,40), c=\"r\")\n",
    "plt.grid()\n",
    "plt.show()"
   ]
  },
  {
   "cell_type": "code",
   "execution_count": 28,
   "metadata": {},
   "outputs": [],
   "source": [
    "dtc_obj1_ivs = DecisionTreeRegressor(max_depth=28, min_samples_leaf=5, min_samples_split=5)\n",
    "dtc_obj1_ivs.fit(X_obj1_TRAIN,y_obj1_TRAIN)\n",
    "ivs_obj1_preds = dtc_obj1_ivs.predict(X_obj1_IVS)"
   ]
  },
  {
   "cell_type": "code",
   "execution_count": 29,
   "metadata": {},
   "outputs": [
    {
     "name": "stdout",
     "output_type": "stream",
     "text": [
      "The RVE is:  0.8596608700755074\n",
      "The rmse is:  3.02569051721646\n",
      "The Correlation Score is is: 0.9286 (p-value=2.045336e-254)\n",
      "\n",
      "The Maximum Error is is:  19.635428571428573\n",
      "The Mean Absolute Error is:  1.0858209877443044\n"
     ]
    }
   ],
   "source": [
    "printRegStatistics(y_obj1_IVS, ivs_obj1_preds)"
   ]
  },
  {
   "cell_type": "code",
   "execution_count": 30,
   "metadata": {},
   "outputs": [
    {
     "data": {
      "text/plain": "<Figure size 360x360 with 1 Axes>",
      "image/png": "[encoded data removed]"
     },
     "metadata": {
      "needs_background": "light"
     },
     "output_type": "display_data"
    }
   ],
   "source": [
    "plt.figure(figsize=(5,5))\n",
    "plt.scatter(y_obj1_IVS, ivs_obj1_preds)\n",
    "plt.plot((5, 40), (5,40), c=\"r\")\n",
    "plt.grid()\n",
    "plt.show()"
   ]
  },
  {
   "cell_type": "markdown",
   "metadata": {},
   "source": [
    "## Modelos Lineares"
   ]
  },
  {
   "cell_type": "markdown",
   "metadata": {},
   "source": [
    "Regressão Linear"
   ]
  },
  {
   "cell_type": "code",
   "execution_count": 47,
   "metadata": {},
   "outputs": [
    {
     "name": "stdout",
     "output_type": "stream",
     "text": [
      "The bias is:  30.890403757046094\n",
      "The other parameters are: \n",
      "\t B1 ->    -0.457\n",
      "\t B2 -> -25920.666\n",
      "\t B3 -> -88332.472\n",
      "\t B4 ->  -106.013\n",
      "\t B5 ->   778.739\n",
      "\t B6 -> -10346.487\n",
      "\t B7 ->   201.912\n",
      "\t B8 ->   -12.944\n",
      "\t B9 ->  3373.374\n",
      "\t B10 ->    16.644\n",
      "\t B11 ->    -1.358\n",
      "\t B12 ->  -670.162\n",
      "\t B13 ->     0.012\n",
      "\t B14 ->     0.607\n",
      "\t B15 ->    -9.604\n",
      "\t B16 ->     0.192\n",
      "\t B17 ->   -23.138\n",
      "\t B18 ->    58.704\n",
      "\t B19 ->  8709.602\n",
      "The RVE is:  0.04142800914741829\n",
      "The rmse is:  7.891679157157583\n",
      "The Correlation Score is is: 0.2858 (p-value=1.627410e-12)\n",
      "\n",
      "The Maximum Error is is:  51.80489751173937\n",
      "The Mean Absolute Error is:  6.485911856722227\n"
     ]
    },
    {
     "data": {
      "text/plain": "<Figure size 504x504 with 1 Axes>",
      "image/png": "[encoded data removed]"
     },
     "metadata": {
      "needs_background": "light"
     },
     "output_type": "display_data"
    }
   ],
   "source": [
    "reg = LinearRegression().fit(X_obj1_TRAIN, y_obj1_TRAIN)                                    \n",
    "\n",
    "print(\"The bias is: \",  reg.intercept_)\n",
    "print(\"The other parameters are: \")\n",
    "for i, beta in enumerate(reg.coef_):\n",
    "    print(\"\\t B%d -> %9.3f\"% (i+1, beta))\n",
    "\n",
    "preds=reg.predict(X_obj1_IVS)\n",
    "printRegStatistics(y_obj1_IVS,preds)\n",
    "\n",
    "plt.figure(figsize=(7,7))\n",
    "plt.scatter(preds, y_obj1_IVS)\n",
    "plt.grid()\n",
    "plt.plot([10,35], [10,35], c=\"r\")\n",
    "plt.show()"
   ]
  },
  {
   "cell_type": "markdown",
   "metadata": {},
   "source": [
    "Ridge"
   ]
  },
  {
   "cell_type": "code",
   "execution_count": 48,
   "metadata": {},
   "outputs": [
    {
     "data": {
      "text/plain": "<Figure size 432x288 with 1 Axes>",
      "image/png": "[encoded data removed]"
     },
     "metadata": {
      "needs_background": "light"
     },
     "output_type": "display_data"
    }
   ],
   "source": [
    "rmse_train = []\n",
    "rmse_test = []\n",
    "alphas=[0.01*i for i in range(1,30)]\n",
    "for alpha in alphas: \n",
    "    ridge = Ridge(alpha=alpha, max_iter=100000).fit(X_obj1_TRAIN, y_obj1_TRAIN)\n",
    "    preds_tr=ridge.predict(X_obj1_TRAIN)\n",
    "    preds_te=ridge.predict(X_obj1_IVS)\n",
    "    rmse_train.append(mean_squared_error(y_obj1_TRAIN, preds_tr, squared=False))\n",
    "    rmse_test.append(mean_squared_error(y_obj1_IVS, preds_te, squared=False))\n",
    "    \n",
    "plt.plot(alphas, rmse_train, label=\"rmse Train\", marker='o')    \n",
    "plt.plot(alphas, rmse_test, label=\"rmse Test\", marker='o')    \n",
    "plt.grid()\n",
    "plt.legend()\n",
    "plt.show() #O melhor alpha é 0.2\n"
   ]
  },
  {
   "cell_type": "code",
   "execution_count": 49,
   "metadata": {},
   "outputs": [
    {
     "name": "stdout",
     "output_type": "stream",
     "text": [
      "The bias is:  31.26502674949723\n",
      "The other parameters are: \n",
      "\t B01 ->    -0.405\n",
      "\t B02 ->     5.137\n",
      "\t B03 ->    -0.282\n",
      "\t B04 ->   -10.136\n",
      "\t B05 ->     8.232\n",
      "\t B06 ->   -13.002\n",
      "\t B07 ->     8.493\n",
      "\t B08 ->   -17.219\n",
      "\t B09 ->   -39.002\n",
      "\t B10 ->    13.343\n",
      "\t B11 ->    -0.288\n",
      "\t B12 ->     4.227\n",
      "\t B13 ->     0.011\n",
      "\t B14 ->    -0.423\n",
      "\t B15 ->     1.077\n",
      "\t B16 ->     0.197\n",
      "\t B17 ->   -25.566\n",
      "\t B18 ->    45.782\n",
      "\t B19 ->    15.431\n",
      "The RVE is:  0.1145029450099061\n",
      "The rmse is:  7.585693033652075\n",
      "The Correlation Score is is: 0.3401 (p-value=2.196446e-17)\n",
      "\n",
      "The Maximum Error is is:  20.00275865191518\n",
      "The Mean Absolute Error is:  6.4339331854741495\n"
     ]
    }
   ],
   "source": [
    "#Então agora usamos o ridge para alpha=0.2\n",
    "\n",
    "ridge = Ridge(alpha=0.2, max_iter=9999999).fit(X_obj1_TRAIN, y_obj1_TRAIN)  #Em alpha=10, estamos overpenalizing\n",
    "\n",
    "print(\"The bias is: \",  ridge.intercept_)\n",
    "print(\"The other parameters are: \")\n",
    "for i, beta in enumerate(ridge.coef_):\n",
    "    print(\"\\t B%02d -> %9.3f\"% (i+1, beta))\n",
    "\n",
    "preds=ridge.predict(X_obj1_IVS)\n",
    "printRegStatistics(y_obj1_IVS, preds)"
   ]
  },
  {
   "cell_type": "markdown",
   "metadata": {},
   "source": [
    "LASSO"
   ]
  },
  {
   "cell_type": "code",
   "execution_count": 50,
   "metadata": {},
   "outputs": [
    {
     "name": "stderr",
     "output_type": "stream",
     "text": [
      "C:\\Users\\Ariana Dias\\AppData\\Local\\Programs\\Python\\Python310\\lib\\site-packages\\sklearn\\linear_model\\_base.py:141: FutureWarning: 'normalize' was deprecated in version 1.0 and will be removed in 1.2.\n",
      "If you wish to scale the data, use Pipeline with a StandardScaler in a preprocessing stage. To reproduce the previous behavior:\n",
      "\n",
      "from sklearn.pipeline import make_pipeline\n",
      "\n",
      "model = make_pipeline(StandardScaler(with_mean=False), Lasso())\n",
      "\n",
      "If you wish to pass a sample_weight parameter, you need to pass it as a fit parameter to each step of the pipeline as follows:\n",
      "\n",
      "kwargs = {s[0] + '__sample_weight': sample_weight for s in model.steps}\n",
      "model.fit(X, y, **kwargs)\n",
      "\n",
      "Set parameter alpha to: original_alpha * np.sqrt(n_samples). \n",
      "  warnings.warn(\n"
     ]
    },
    {
     "data": {
      "text/plain": "GridSearchCV(cv=10, estimator=Lasso(), n_jobs=-1,\n             param_grid=[{'alpha': [0.001, 0.002, 0.003, 0.004, 0.005, 0.006,\n                                    0.007, 0.008, 0.009000000000000001, 0.01,\n                                    0.011, 0.012, 0.013000000000000001, 0.014,\n                                    0.015, 0.016, 0.017, 0.018000000000000002,\n                                    0.019, 0.02, 0.021, 0.022, 0.023, 0.024,\n                                    0.025, 0.026000000000000002, 0.027, 0.028,\n                                    0.029, 0.03, ...],\n                          'normalize': [True, False]}],\n             scoring='neg_mean_squared_error')"
     },
     "execution_count": 50,
     "metadata": {},
     "output_type": "execute_result"
    }
   ],
   "source": [
    "params_linear = [\n",
    "    {\"alpha\" : [x*0.001 for x in range(1,100)],\n",
    "    \"normalize\" : [True, False]}\n",
    "]\n",
    "\n",
    "grid_search2 = GridSearchCV(\n",
    "    Lasso(), params_linear, scoring=\"neg_mean_squared_error\", cv=10, n_jobs=-1\n",
    ")\n",
    "\n",
    "grid_search2.fit(X_obj1_TRAIN, y_obj1_TRAIN)"
   ]
  },
  {
   "cell_type": "code",
   "execution_count": 51,
   "metadata": {},
   "outputs": [
    {
     "data": {
      "text/plain": "{'alpha': 0.001, 'normalize': True}"
     },
     "execution_count": 51,
     "metadata": {},
     "output_type": "execute_result"
    }
   ],
   "source": [
    "grid_search2.best_params_"
   ]
  },
  {
   "cell_type": "code",
   "execution_count": 52,
   "metadata": {},
   "outputs": [
    {
     "data": {
      "text/plain": "-56.27402437587581"
     },
     "execution_count": 52,
     "metadata": {},
     "output_type": "execute_result"
    }
   ],
   "source": [
    "grid_search2.best_score_"
   ]
  },
  {
   "cell_type": "code",
   "execution_count": 53,
   "metadata": {},
   "outputs": [
    {
     "name": "stdout",
     "output_type": "stream",
     "text": [
      "The RVE is:  0.11359261050188574\n",
      "The rmse is:  7.589766495660788\n",
      "The Correlation Score is is: 0.3390 (p-value=2.820752e-17)\n",
      "\n",
      "The Maximum Error is is:  19.775903864619757\n",
      "The Mean Absolute Error is:  6.441801170215937\n"
     ]
    }
   ],
   "source": [
    "#E agora aplicamos o LASSO para alfa=0.001\n",
    "\n",
    "L = Lasso(alpha=0.001, max_iter=9999999).fit(X_obj1_TRAIN, y_obj1_TRAIN)\n",
    "preds=L.predict(X_obj1_IVS)\n",
    "printRegStatistics(y_obj1_IVS, preds)"
   ]
  },
  {
   "cell_type": "markdown",
   "metadata": {},
   "source": [
    "## Objective 2\n",
    "Preparação do dataset"
   ]
  },
  {
   "cell_type": "code",
   "execution_count": 54,
   "metadata": {
    "scrolled": true
   },
   "outputs": [
    {
     "name": "stderr",
     "output_type": "stream",
     "text": [
      "C:\\Users\\Ariana Dias\\AppData\\Local\\Temp\\ipykernel_3296\\2211622074.py:8: FutureWarning: Passing a set as an indexer is deprecated and will raise in a future version. Use a list instead.\n",
      "  X_obj2 = parkinsons_objective2[set(parkinsons_objective2.columns) - {\"total_UPDRS\"}]\n"
     ]
    }
   ],
   "source": [
    "# Copiar o dataframe original\n",
    "parkinsons_objective2 = parkinsons_data.copy()\n",
    "# Remover a coluna subject# e motor_UPDRS\n",
    "parkinsons_objective2.drop(columns=[\"subject#\",\"motor_UPDRS\"], inplace=True)\n",
    "# Transformação de total_UPDRS em variavel binaria\n",
    "parkinsons_objective2[\"total_UPDRS\"] = parkinsons_objective2[\"total_UPDRS\"].apply(lambda x : 1 if x > 40 else 0)\n",
    "\n",
    "X_obj2 = parkinsons_objective2[set(parkinsons_objective2.columns) - {\"total_UPDRS\"}]\n",
    "y_obj2 = parkinsons_objective2[\"total_UPDRS\"]\n",
    "\n",
    "# Converter para np array\n",
    "Xc_obj2 = X_obj2.to_numpy()\n",
    "yc_obj2 = y_obj2.to_numpy()\n",
    "\n",
    "# Divisprint(y_obj2)ão do dataset em training set e independent validation set\n",
    "X_obj2_TRAIN, X_obj2_IVS, y_obj2_TRAIN, y_obj2_IVS = train_test_split(Xc_obj2, yc_obj2, test_size=0.10, random_state=314)"
   ]
  },
  {
   "cell_type": "markdown",
   "metadata": {},
   "source": [
    "### Fitting e validação dos modelos"
   ]
  },
  {
   "cell_type": "markdown",
   "metadata": {},
   "source": [
    "N-Fold Split"
   ]
  },
  {
   "cell_type": "code",
   "execution_count": 55,
   "metadata": {},
   "outputs": [
    {
     "data": {
      "text/plain": "16"
     },
     "execution_count": 55,
     "metadata": {},
     "output_type": "execute_result"
    }
   ],
   "source": [
    "kf2 = KFold(n_splits=16, shuffle=True, random_state = 274)\n",
    "kf2.get_n_splits(X_obj2_TRAIN)"
   ]
  },
  {
   "cell_type": "markdown",
   "metadata": {},
   "source": [
    "##### Decision Tree Classifier"
   ]
  },
  {
   "cell_type": "markdown",
   "metadata": {},
   "source": [
    "N-Cross validation"
   ]
  },
  {
   "cell_type": "code",
   "execution_count": 56,
   "metadata": {},
   "outputs": [],
   "source": [
    "# NOTA: é preciso fazer isto para diferentes hyperparameters e guardar\n",
    "#       as metricas para cada um, assim podemos comparar depois e determinar\n",
    "#       qual os melhores hyperparameters antes de validarmos o modelo com os\n",
    "#       dados IVS. \n",
    "#       Para além disto, devemos testar tanto com um critério de entropia,\n",
    "#       bem como de Gini.\n",
    "\n",
    "# Exemplos: min_samples_leaf, max_depth..."
   ]
  },
  {
   "cell_type": "code",
   "execution_count": 57,
   "metadata": {},
   "outputs": [],
   "source": [
    "TRUTH=None\n",
    "PREDS=None\n",
    "\n",
    "for train_index, test_index in kf1.split(X_obj1_TRAIN):\n",
    "    X_train, X_test = X_obj2_TRAIN[train_index], X_obj2_TRAIN[test_index]\n",
    "    y_train, y_test = y_obj2_TRAIN[train_index], y_obj2_TRAIN[test_index]\n",
    "    \n",
    "    dtr_obj2 = DecisionTreeClassifier()\n",
    "    dtr_obj2.fit(X_train, y_train)\n",
    "    \n",
    "    preds = dtr_obj2.predict(X_test)\n",
    "    if TRUTH is None:\n",
    "        PREDS=preds\n",
    "        TRUTH=y_test\n",
    "    else:\n",
    "        PREDS=np.hstack((PREDS, preds))\n",
    "        TRUTH=np.hstack((TRUTH, y_test))"
   ]
  },
  {
   "cell_type": "code",
   "execution_count": 58,
   "metadata": {},
   "outputs": [
    {
     "name": "stdout",
     "output_type": "stream",
     "text": [
      "The RVE is:  0.9307959905957217\n",
      "The rmse is:  0.09917381424646411\n",
      "The Correlation Score is is: 0.9654 (p-value=0.000000e+00)\n",
      "\n",
      "The Maximum Error is is:  1\n",
      "The Mean Absolute Error is:  0.00983544543219217\n"
     ]
    }
   ],
   "source": [
    "printRegStatistics(TRUTH,PREDS)"
   ]
  },
  {
   "cell_type": "markdown",
   "metadata": {},
   "source": [
    "## Modelo Linear para classificação"
   ]
  },
  {
   "cell_type": "markdown",
   "metadata": {},
   "source": [
    "Regressão Logística"
   ]
  },
  {
   "cell_type": "code",
   "execution_count": 69,
   "outputs": [],
   "source": [
    "from sklearn.metrics import precision_score, recall_score, f1_score, matthews_corrcoef, confusion_matrix, accuracy_score\n",
    "import pandas as pd\n",
    "def printClassResults(truth, preds):\n",
    "    print(\"The Accuracy is: %7.4f\" % accuracy_score(truth, preds))\n",
    "    print(\"The Precision is: %7.4f\" % precision_score(truth, preds))\n",
    "    print(\"The Recall is: %7.4f\" % recall_score(truth, preds))\n",
    "    print(\"The F1 score is: %7.4f\" % f1_score(truth, preds))\n",
    "    print(\"The Matthews correlation coefficient is: %7.4f\" % matthews_corrcoef(truth, preds))\n",
    "    print()\n",
    "    print(\"This is the Confusion Matrix\")\n",
    "    print(pd.DataFrame(confusion_matrix(truth, preds)))\n"
   ],
   "metadata": {
    "collapsed": false
   }
  },
  {
   "cell_type": "code",
   "execution_count": 70,
   "outputs": [],
   "source": [
    "from sklearn.linear_model import LogisticRegression\n",
    "#X_obj2_TRAIN, X_obj2_IVS, y_obj2_TRAIN, y_obj2_IVS\n",
    "from sklearn.preprocessing import StandardScaler\n",
    "scaler = StandardScaler()\n",
    "scaler.fit(X_obj2_TRAIN)\n",
    "X_train = scaler.transform(X_obj2_TRAIN)\n",
    "X_test = scaler.transform(X_obj2_IVS)"
   ],
   "metadata": {
    "collapsed": false
   }
  },
  {
   "cell_type": "markdown",
   "metadata": {},
   "source": []
  },
  {
   "cell_type": "code",
   "execution_count": 71,
   "outputs": [],
   "source": [
    "mdl = LogisticRegression(random_state=0).fit(X_train, y_obj2_TRAIN)"
   ],
   "metadata": {
    "collapsed": false
   }
  },
  {
   "cell_type": "code",
   "execution_count": 72,
   "outputs": [
    {
     "name": "stdout",
     "output_type": "stream",
     "text": [
      "The bias is:  -1.8496746788452687\n",
      "The other parameters are: \n",
      "\t B01 ->    -0.414\n",
      "\t B02 ->     0.665\n",
      "\t B03 ->    -0.724\n",
      "\t B04 ->    -0.636\n",
      "\t B05 ->    -0.692\n",
      "\t B06 ->    -0.090\n",
      "\t B07 ->     0.965\n",
      "\t B08 ->    -0.446\n",
      "\t B09 ->    -0.090\n",
      "\t B10 ->     0.554\n",
      "\t B11 ->    -0.387\n",
      "\t B12 ->    -0.093\n",
      "\t B13 ->     0.287\n",
      "\t B14 ->    -0.006\n",
      "\t B15 ->    -0.251\n",
      "\t B16 ->     0.616\n",
      "\t B17 ->    -0.264\n",
      "\t B18 ->    -0.154\n",
      "\t B19 ->     0.651\n"
     ]
    }
   ],
   "source": [
    "print(\"The bias is: \", mdl.intercept_[0])\n",
    "print(\"The other parameters are: \")\n",
    "for i, beta in enumerate(mdl.coef_[0]):\n",
    "    print(\"\\t B%02d -> %9.3f\" % (i + 1, beta))\n",
    "\n"
   ],
   "metadata": {
    "collapsed": false
   }
  },
  {
   "cell_type": "code",
   "execution_count": 73,
   "outputs": [
    {
     "name": "stdout",
     "output_type": "stream",
     "text": [
      "\t B07 ->     0.965\n",
      "\t B03 ->     0.724\n",
      "\t B05 ->     0.692\n",
      "\t B02 ->     0.665\n",
      "\t B19 ->     0.651\n"
     ]
    }
   ],
   "source": [
    "coefs = [(abs(beta), i) for i, beta in enumerate(mdl.coef_[0])]\n",
    "coefs.sort()\n",
    "coefs.reverse()\n",
    "for beta, i in coefs[:5]:\n",
    "    print(\"\\t B%02d -> %9.3f\" % (i + 1, beta))"
   ],
   "metadata": {
    "collapsed": false
   }
  },
  {
   "cell_type": "code",
   "execution_count": 75,
   "outputs": [
    {
     "name": "stdout",
     "output_type": "stream",
     "text": [
      "The Accuracy is:  0.8282\n",
      "The Precision is:  0.3333\n",
      "The Recall is:  0.0202\n",
      "The F1 score is:  0.0381\n",
      "The Matthews correlation coefficient is:  0.0448\n",
      "\n",
      "This is the Confusion Matrix\n",
      "     0  1\n",
      "0  485  4\n",
      "1   97  2\n"
     ]
    }
   ],
   "source": [
    "preds = mdl.predict(X_test)\n",
    "\n",
    "printClassResults(y_obj2_IVS, preds)"
   ],
   "metadata": {
    "collapsed": false
   }
  },
  {
   "cell_type": "code",
   "execution_count": null,
   "outputs": [],
   "source": [],
   "metadata": {
    "collapsed": false
   }
  }
 ],
 "metadata": {
  "kernelspec": {
   "display_name": "Python 3.7.4 64-bit",
   "language": "python",
   "name": "python3"
  },
  "language_info": {
   "codemirror_mode": {
    "name": "ipython",
    "version": 3
   },
   "file_extension": ".py",
   "mimetype": "text/x-python",
   "name": "python",
   "nbconvert_exporter": "python",
   "pygments_lexer": "ipython3",
   "version": "3.7.4"
  },
  "vscode": {
   "interpreter": {
    "hash": "0673ab1abe7352575dcd21e16044386aa979e67e7d18febbdc22840960b7f25f"
   }
  }
 },
 "nbformat": 4,
 "nbformat_minor": 2
}
