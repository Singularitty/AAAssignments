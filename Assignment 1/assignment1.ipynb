{
 "cells": [
  {
   "cell_type": "markdown",
   "metadata": {},
   "source": [
    "# Aprendizagem Automática - Assignment 1 "
   ]
  },
  {
   "cell_type": "code",
   "execution_count": 17,
   "metadata": {},
   "outputs": [],
   "source": [
    "# Imports\n",
    "import pandas as pd\n",
    "import numpy as np\n",
    "import matplotlib.pyplot as plt\n",
    "# Models and selection methods\n",
    "from sklearn.tree import DecisionTreeRegressor, DecisionTreeClassifier, plot_tree\n",
    "from sklearn.base import clone\n",
    "from sklearn.model_selection import KFold, train_test_split, GridSearchCV, cross_val_score\n",
    "from sklearn.linear_model import LinearRegression, Ridge, Lasso, LogisticRegression\n",
    "from sklearn.preprocessing import StandardScaler\n",
    "# Binary classifier metrics\n",
    "from sklearn.metrics import precision_score, recall_score, f1_score, matthews_corrcoef, confusion_matrix, accuracy_score\n",
    "# Linear regression metrics\n",
    "from sklearn.metrics import explained_variance_score, mean_squared_error, max_error, mean_absolute_error\n",
    "from scipy.stats import pearsonr"
   ]
  },
  {
   "cell_type": "code",
   "execution_count": 24,
   "metadata": {},
   "outputs": [],
   "source": [
    "# Estatisticas para regressores\n",
    "def printRegStatistics(truth, preds):\n",
    "    print(\"The RVE is: \", explained_variance_score(truth, preds))\n",
    "    print(\"The rmse is: \", mean_squared_error(truth, preds, squared=False))\n",
    "    corr, pval = pearsonr(truth, preds)\n",
    "    print(\"The Correlation Score is is: %6.4f (p-value=%e)\\n\"%(corr,pval))\n",
    "    print(\"The Maximum Error is is: \", max_error(truth, preds))\n",
    "    print(\"The Mean Absolute Error is: \", mean_absolute_error(truth, preds))\n",
    "\n",
    "# Previsao de resultados com cross validation\n",
    "def CrossValidation(X_TRAIN, y_TRAIN, kf, model):\n",
    "    TRUTH=None\n",
    "    PREDS=None\n",
    "    for train_index, test_index in kf.split(X_TRAIN):\n",
    "        X_train, X_test = X_TRAIN[train_index], X_TRAIN[test_index]\n",
    "        y_train, y_test = y_TRAIN[train_index], y_TRAIN[test_index]\n",
    "        temp_model = clone(model)\n",
    "        temp_model.fit(X_train, y_train)\n",
    "        preds = temp_model.predict(X_test)\n",
    "        if TRUTH is None:\n",
    "            PREDS=preds\n",
    "            TRUTH=y_test\n",
    "        else:\n",
    "            PREDS=np.hstack((PREDS, preds))\n",
    "            TRUTH=np.hstack((TRUTH, y_test))\n",
    "    return (TRUTH, PREDS)\n",
    "\n",
    "# Estatisticas para classificadores\n",
    "def printClassResults(truth, preds):\n",
    "    print(\"The Accuracy is: %7.4f\" % accuracy_score(truth, preds))\n",
    "    print(\"The Precision is: %7.4f\" % precision_score(truth, preds))\n",
    "    print(\"The Recall is: %7.4f\" % recall_score(truth, preds))\n",
    "    print(\"The F1 score is: %7.4f\" % f1_score(truth, preds))\n",
    "    print(\"The Matthews correlation coefficient is: %7.4f\" % matthews_corrcoef(truth, preds))\n",
    "    print()\n",
    "    print(\"This is the Confusion Matrix\")\n",
    "    print(pd.DataFrame(confusion_matrix(truth, preds)))\n",
    "\n",
    "# Plot das previsoes vs dados reais\n",
    "def displayPlot(preds, truth):\n",
    "    plt.figure(figsize=(5,5))\n",
    "    plt.scatter(preds, truth)\n",
    "    plt.axline((0, 0), slope=1, color=\"red\")\n",
    "    plt.grid()\n",
    "    plt.show()"
   ]
  },
  {
   "cell_type": "markdown",
   "metadata": {},
   "source": [
    "#### Objective 1\n",
    "Preparação do dataset"
   ]
  },
  {
   "cell_type": "code",
   "execution_count": 15,
   "metadata": {},
   "outputs": [
    {
     "name": "stderr",
     "output_type": "stream",
     "text": [
      "C:\\Users\\nulga\\AppData\\Local\\Temp\\ipykernel_16608\\1920151987.py:6: FutureWarning: Passing a set as an indexer is deprecated and will raise in a future version. Use a list instead.\n",
      "  X_obj1 = parkinsons_objective1[set(parkinsons_objective1.columns) - {\"motor_UPDRS\"}]\n"
     ]
    }
   ],
   "source": [
    "# Criar dataframe\n",
    "parkinsons_objective1 = pd.read_csv(\"parkinsons_updrs.data\")\n",
    "# Remover a coluna total_UPDRS e subject#\n",
    "parkinsons_objective1.drop(columns=[\"subject#\",\"total_UPDRS\"], inplace=True)\n",
    "# Divisão do dataset em variaveis independentes e dependentes\n",
    "X_obj1 = parkinsons_objective1[set(parkinsons_objective1.columns) - {\"motor_UPDRS\"}]\n",
    "y_obj1 = parkinsons_objective1[\"motor_UPDRS\"]\n",
    "# Converter para np array\n",
    "Xc_obj1 = X_obj1.to_numpy()\n",
    "yc_obj1 = y_obj1.to_numpy()\n",
    "# Divisão do dataset em training set e independent validation set\n",
    "X_obj1_TRAIN, X_obj1_IVS, y_obj1_TRAIN, y_obj1_IVS = train_test_split(Xc_obj1, yc_obj1, test_size=0.10, random_state=314)\n",
    "# Kfold split dos dados de treino\n",
    "kf1 = KFold(n_splits=16, shuffle=True, random_state = 274)"
   ]
  },
  {
   "cell_type": "markdown",
   "metadata": {},
   "source": [
    "### Fitting e validação dos modelos"
   ]
  },
  {
   "cell_type": "markdown",
   "metadata": {},
   "source": [
    "##### Decision Tree Regressor"
   ]
  },
  {
   "cell_type": "markdown",
   "metadata": {},
   "source": [
    "N-Cross validation"
   ]
  },
  {
   "cell_type": "code",
   "execution_count": 23,
   "metadata": {},
   "outputs": [
    {
     "name": "stdout",
     "output_type": "stream",
     "text": [
      "{'max_depth': 22, 'min_samples_leaf': 1, 'min_samples_split': 10}\n"
     ]
    }
   ],
   "source": [
    "params = [\n",
    "    {\"max_depth\" : [6,8,10,12,14,16,18,20,22,24,26,28,30],\n",
    "    \"min_samples_leaf\" : [1,4,5,6,7,8,10,20],\n",
    "    \"min_samples_split\" : [2,4,5,6,7,8,10,20]}]\n",
    "\n",
    "grid_search = GridSearchCV(\n",
    "    DecisionTreeRegressor(), params, scoring=\"neg_mean_squared_error\", cv=kf1 , n_jobs=-1)\n",
    "\n",
    "grid_search.fit(X_obj1_TRAIN, y_obj1_TRAIN)\n",
    "print(grid_search.best_params_)"
   ]
  },
  {
   "cell_type": "code",
   "execution_count": 40,
   "metadata": {},
   "outputs": [
    {
     "name": "stdout",
     "output_type": "stream",
     "text": [
      "The RVE is:  0.9187289228943093\n",
      "The rmse is:  2.3194621610330985\n",
      "The Correlation Score is is: 0.9590 (p-value=0.000000e+00)\n",
      "\n",
      "The Maximum Error is is:  26.300400000000003\n",
      "The Mean Absolute Error is:  0.7830567752500006\n"
     ]
    },
    {
     "data": {
      "image/png": "[encoded data removed]",
      "text/plain": [
       "<Figure size 360x360 with 1 Axes>"
      ]
     },
     "metadata": {
      "needs_background": "light"
     },
     "output_type": "display_data"
    }
   ],
   "source": [
    "truth, preds = CrossValidation(X_obj1_TRAIN, y_obj1_TRAIN, kf1, grid_search.best_estimator_)\n",
    "printRegStatistics(truth, preds)\n",
    "displayPlot(preds, truth)"
   ]
  },
  {
   "cell_type": "markdown",
   "metadata": {},
   "source": [
    "### Modelos Lineares"
   ]
  },
  {
   "cell_type": "markdown",
   "metadata": {},
   "source": [
    "Regressão Linear"
   ]
  },
  {
   "cell_type": "code",
   "execution_count": 39,
   "metadata": {},
   "outputs": [
    {
     "name": "stdout",
     "output_type": "stream",
     "text": [
      "The RVE is:  0.15521487798481504\n",
      "The rmse is:  7.478089741993551\n",
      "The Correlation Score is is: 0.3945 (p-value=2.124170e-196)\n",
      "\n",
      "The Maximum Error is is:  42.95355516498548\n",
      "The Mean Absolute Error is:  6.329665584029527\n"
     ]
    },
    {
     "data": {
      "image/png": "[encoded data removed]",
      "text/plain": [
       "<Figure size 360x360 with 1 Axes>"
      ]
     },
     "metadata": {
      "needs_background": "light"
     },
     "output_type": "display_data"
    }
   ],
   "source": [
    "truth, preds = CrossValidation(X_obj1_TRAIN, y_obj1_TRAIN, kf1, LinearRegression())\n",
    "printRegStatistics(truth, preds)\n",
    "displayPlot(preds, truth)"
   ]
  },
  {
   "cell_type": "markdown",
   "metadata": {},
   "source": [
    "Ridge"
   ]
  },
  {
   "cell_type": "code",
   "execution_count": 20,
   "metadata": {},
   "outputs": [
    {
     "name": "stdout",
     "output_type": "stream",
     "text": [
      "{'alpha': 0.01}\n"
     ]
    }
   ],
   "source": [
    "params_linear = [\n",
    "    {\"alpha\" : [x*0.01 for x in range(1,100)]}]\n",
    "\n",
    "grid_search_ridge = GridSearchCV(\n",
    "    Ridge(), params_linear, scoring=\"neg_mean_squared_error\", cv=kf1, n_jobs=-1)\n",
    "\n",
    "grid_search_ridge.fit(X_obj1_TRAIN, y_obj1_TRAIN)\n",
    "print(grid_search_ridge.best_params_)"
   ]
  },
  {
   "cell_type": "code",
   "execution_count": 38,
   "metadata": {},
   "outputs": [
    {
     "name": "stdout",
     "output_type": "stream",
     "text": [
      "The RVE is:  0.14447092831019281\n",
      "The rmse is:  7.525491176838852\n",
      "The Correlation Score is is: 0.3801 (p-value=2.246023e-181)\n",
      "\n",
      "The Maximum Error is is:  19.415626406046634\n",
      "The Mean Absolute Error is:  6.367597022147749\n"
     ]
    },
    {
     "data": {
      "image/png": "[encoded data removed]",
      "text/plain": [
       "<Figure size 360x360 with 1 Axes>"
      ]
     },
     "metadata": {
      "needs_background": "light"
     },
     "output_type": "display_data"
    }
   ],
   "source": [
    "truth, preds = CrossValidation(X_obj1_TRAIN, y_obj1_TRAIN, kf1, grid_search_ridge.best_estimator_)\n",
    "printRegStatistics(truth, preds)\n",
    "displayPlot(preds, truth)"
   ]
  },
  {
   "cell_type": "markdown",
   "metadata": {},
   "source": [
    "LASSO"
   ]
  },
  {
   "cell_type": "code",
   "execution_count": 22,
   "metadata": {},
   "outputs": [
    {
     "name": "stdout",
     "output_type": "stream",
     "text": [
      "{'alpha': 0.001}\n"
     ]
    }
   ],
   "source": [
    "params_linear = [\n",
    "    {\"alpha\" : [x*0.001 for x in range(1,100)]}]\n",
    "\n",
    "grid_search_lasso = GridSearchCV(\n",
    "    Lasso(), params_linear, scoring=\"neg_mean_squared_error\", cv=10, n_jobs=-1)\n",
    "\n",
    "grid_search_lasso.fit(X_obj1_TRAIN, y_obj1_TRAIN)\n",
    "print(grid_search_lasso.best_params_)"
   ]
  },
  {
   "cell_type": "code",
   "execution_count": 37,
   "metadata": {},
   "outputs": [
    {
     "name": "stdout",
     "output_type": "stream",
     "text": [
      "The RVE is:  0.14225866664021747\n",
      "The rmse is:  7.5352148389916955\n",
      "The Correlation Score is is: 0.3772 (p-value=2.269047e-178)\n",
      "\n",
      "The Maximum Error is is:  19.79650923761098\n",
      "The Mean Absolute Error is:  6.379500425359142\n"
     ]
    },
    {
     "data": {
      "image/png": "[encoded data removed]",
      "text/plain": [
       "<Figure size 360x360 with 1 Axes>"
      ]
     },
     "metadata": {
      "needs_background": "light"
     },
     "output_type": "display_data"
    }
   ],
   "source": [
    "truth, preds = CrossValidation(X_obj1_TRAIN, y_obj1_TRAIN, kf1, grid_search_lasso.best_estimator_)\n",
    "printRegStatistics(truth, preds)\n",
    "displayPlot(preds, truth)"
   ]
  },
  {
   "cell_type": "markdown",
   "metadata": {},
   "source": [
    "### Validação do Melhor Modelo"
   ]
  },
  {
   "cell_type": "code",
   "execution_count": 29,
   "metadata": {},
   "outputs": [
    {
     "name": "stdout",
     "output_type": "stream",
     "text": [
      "The RVE is:  0.8622302130156194\n",
      "The rmse is:  2.9920642068003667\n",
      "The Correlation Score is is: 0.9307 (p-value=4.539548e-258)\n",
      "\n",
      "The Maximum Error is is:  20.366000000000003\n",
      "The Mean Absolute Error is:  1.0061989272891698\n"
     ]
    },
    {
     "data": {
      "image/png": "[encoded data removed]",
      "text/plain": [
       "<Figure size 360x360 with 1 Axes>"
      ]
     },
     "metadata": {
      "needs_background": "light"
     },
     "output_type": "display_data"
    }
   ],
   "source": [
    "# Melhor modelo foi DecisionTreeRegressor, com os seguintes parametros:\n",
    "# {'max_depth': 22, 'min_samples_leaf': 1, 'min_samples_split': 10}\n",
    "obj1_model = DecisionTreeRegressor(max_depth=22, min_samples_leaf=1, min_samples_split=10)\n",
    "obj1_model.fit(X_obj1_TRAIN, y_obj1_TRAIN)\n",
    "obj1_IVS_preds = obj1_model.predict(X_obj1_IVS)\n",
    "printRegStatistics(y_obj1_IVS, obj1_IVS_preds)\n",
    "displayPlot(obj1_IVS_preds, y_obj1_IVS)"
   ]
  },
  {
   "cell_type": "markdown",
   "metadata": {},
   "source": [
    "## Objective 2\n",
    "Preparação do dataset"
   ]
  },
  {
   "cell_type": "code",
   "execution_count": 6,
   "metadata": {
    "scrolled": true
   },
   "outputs": [
    {
     "name": "stderr",
     "output_type": "stream",
     "text": [
      "C:\\Users\\nulga\\AppData\\Local\\Temp\\ipykernel_16608\\3288949398.py:7: FutureWarning: Passing a set as an indexer is deprecated and will raise in a future version. Use a list instead.\n",
      "  X_obj2 = parkinsons_objective2[set(parkinsons_objective2.columns) - {\"total_UPDRS\"}]\n"
     ]
    }
   ],
   "source": [
    "# Criar dataframe\n",
    "parkinsons_objective2 = pd.read_csv(\"parkinsons_updrs.data\")\n",
    "# Remover a coluna subject# e motor_UPDRS\n",
    "parkinsons_objective2.drop(columns=[\"subject#\",\"motor_UPDRS\"], inplace=True)\n",
    "# Transformação de total_UPDRS em variavel binaria\n",
    "parkinsons_objective2[\"total_UPDRS\"] = parkinsons_objective2[\"total_UPDRS\"].apply(lambda x : 1 if x > 40 else 0)\n",
    "X_obj2 = parkinsons_objective2[set(parkinsons_objective2.columns) - {\"total_UPDRS\"}]\n",
    "y_obj2 = parkinsons_objective2[\"total_UPDRS\"]\n",
    "# Converter para np array\n",
    "Xc_obj2 = X_obj2.to_numpy()\n",
    "yc_obj2 = y_obj2.to_numpy()\n",
    "# Divisprint(y_obj2)ão do dataset em training set e independent validation set\n",
    "X_obj2_TRAIN, X_obj2_IVS, y_obj2_TRAIN, y_obj2_IVS = train_test_split(Xc_obj2, yc_obj2, test_size=0.10, random_state=314)\n",
    "# Kfold\n",
    "kf2 = KFold(n_splits=16, shuffle=True, random_state = 274)"
   ]
  },
  {
   "cell_type": "markdown",
   "metadata": {},
   "source": [
    "### Fitting e validação dos modelos"
   ]
  },
  {
   "cell_type": "markdown",
   "metadata": {},
   "source": [
    "##### Decision Tree Classifier"
   ]
  },
  {
   "cell_type": "code",
   "execution_count": 9,
   "metadata": {
    "collapsed": false
   },
   "outputs": [
    {
     "name": "stdout",
     "output_type": "stream",
     "text": [
      "{'criterion': 'entropy', 'max_depth': 24, 'min_samples_leaf': 2, 'min_samples_split': 5}\n"
     ]
    }
   ],
   "source": [
    "params = [\n",
    "    {\"max_depth\" : [6,8,10,12,14,16,18,20,22,24,26,28,30],\n",
    "    \"min_samples_leaf\" : [1,2,5,10,20],\n",
    "    \"min_samples_split\" : [2,5,10,20],\n",
    "    \"criterion\":['gini','entropy']}]\n",
    "\n",
    "grid_search_treeclass = GridSearchCV(\n",
    "    DecisionTreeClassifier(), params, scoring=\"f1\", cv=kf2, n_jobs=-1)\n",
    "\n",
    "grid_search_treeclass.fit(X_obj2_TRAIN, y_obj2_TRAIN)\n",
    "print(grid_search_treeclass.best_params_)"
   ]
  },
  {
   "cell_type": "code",
   "execution_count": 44,
   "metadata": {
    "collapsed": false
   },
   "outputs": [
    {
     "name": "stdout",
     "output_type": "stream",
     "text": [
      "The Accuracy is:  0.9930\n",
      "The Precision is:  0.9877\n",
      "The Recall is:  0.9713\n",
      "The F1 score is:  0.9794\n",
      "The Matthews correlation coefficient is:  0.9753\n",
      "\n",
      "This is the Confusion Matrix\n",
      "      0    1\n",
      "0  4369   11\n",
      "1    26  881\n"
     ]
    }
   ],
   "source": [
    "printClassResults(*CrossValidation(X_obj2_TRAIN, y_obj2_TRAIN, kf2, grid_search_treeclass.best_estimator_))"
   ]
  },
  {
   "cell_type": "markdown",
   "metadata": {},
   "source": [
    "##### Regressão Logística"
   ]
  },
  {
   "cell_type": "code",
   "execution_count": 31,
   "metadata": {
    "collapsed": false
   },
   "outputs": [],
   "source": [
    "scaler = StandardScaler()\n",
    "scaler.fit(X_obj2_TRAIN)\n",
    "X_train = scaler.transform(X_obj2_TRAIN)\n",
    "X_ivs = scaler.transform(X_obj2_IVS)"
   ]
  },
  {
   "cell_type": "code",
   "execution_count": 48,
   "metadata": {
    "collapsed": false
   },
   "outputs": [
    {
     "name": "stdout",
     "output_type": "stream",
     "text": [
      "{'C': 0.5, 'max_iter': 999999}\n"
     ]
    }
   ],
   "source": [
    "params = [\n",
    "    {\"C\" : [x*0.1 for x in range(1,11)],\n",
    "    \"max_iter\" : [999999]}]\n",
    "\n",
    "grid_search_log = GridSearchCV(\n",
    "    LogisticRegression(), params, scoring=\"f1\", cv=kf2, n_jobs=-1)\n",
    "\n",
    "grid_search_log.fit(X_train, y_obj2_TRAIN)\n",
    "print(grid_search_log.best_params_)"
   ]
  },
  {
   "cell_type": "code",
   "execution_count": 49,
   "metadata": {},
   "outputs": [
    {
     "name": "stdout",
     "output_type": "stream",
     "text": [
      "The Accuracy is:  0.8277\n",
      "The Precision is:  0.4524\n",
      "The Recall is:  0.0209\n",
      "The F1 score is:  0.0400\n",
      "The Matthews correlation coefficient is:  0.0667\n",
      "\n",
      "This is the Confusion Matrix\n",
      "      0   1\n",
      "0  4357  23\n",
      "1   888  19\n"
     ]
    }
   ],
   "source": [
    "printClassResults(*CrossValidation(X_train, y_obj2_TRAIN, kf2, grid_search_log.best_estimator_))"
   ]
  },
  {
   "cell_type": "markdown",
   "metadata": {},
   "source": [
    "#### Validação do Melhor Modelo"
   ]
  },
  {
   "cell_type": "code",
   "execution_count": 35,
   "metadata": {},
   "outputs": [
    {
     "name": "stdout",
     "output_type": "stream",
     "text": [
      "The Accuracy is:  0.9949\n",
      "The Precision is:  0.9800\n",
      "The Recall is:  0.9899\n",
      "The F1 score is:  0.9849\n",
      "The Matthews correlation coefficient is:  0.9819\n",
      "\n",
      "This is the Confusion Matrix\n",
      "     0   1\n",
      "0  487   2\n",
      "1    1  98\n"
     ]
    }
   ],
   "source": [
    "# Melhor modelo foi DecisionTreeRegressor, com os seguintes parametros:\n",
    "# {'criterion': 'entropy', 'max_depth': 24, 'min_samples_leaf': 2, 'min_samples_split': 5}\n",
    "obj2_model = DecisionTreeClassifier(criterion='entropy', max_depth=24, min_samples_leaf=2, min_samples_split=5)\n",
    "obj2_model.fit(X_train, y_obj2_TRAIN)\n",
    "obj2_IVS_preds = obj2_model.predict(X_ivs)\n",
    "printClassResults(y_obj2_IVS, obj2_IVS_preds)"
   ]
  }
 ],
 "metadata": {
  "kernelspec": {
   "display_name": "Python 3.9.12 ('base')",
   "language": "python",
   "name": "python3"
  },
  "language_info": {
   "codemirror_mode": {
    "name": "ipython",
    "version": 3
   },
   "file_extension": ".py",
   "mimetype": "text/x-python",
   "name": "python",
   "nbconvert_exporter": "python",
   "pygments_lexer": "ipython3",
   "version": "3.9.12"
  },
  "vscode": {
   "interpreter": {
    "hash": "ad2bdc8ecc057115af97d19610ffacc2b4e99fae6737bb82f5d7fb13d2f2c186"
   }
  }
 },
 "nbformat": 4,
 "nbformat_minor": 2
}
