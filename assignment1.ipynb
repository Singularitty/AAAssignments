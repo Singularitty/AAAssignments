{
  "cells": [
    {
      "cell_type": "markdown",
      "metadata": {
        "id": "view-in-github",
        "colab_type": "text"
      },
      "source": [
        "<a href=\"https://colab.research.google.com/github/Singularitty/AAAssignments/blob/main/assignment1.ipynb\" target=\"_parent\"><img src=\"https://colab.research.google.com/assets/colab-badge.svg\" alt=\"Open In Colab\"/></a>"
      ]
    },
    {
      "cell_type": "markdown",
      "metadata": {
        "id": "Vxlze1EFmt5X"
      },
      "source": [
        "# Aprendizagem Automática - Assignment 1 "
      ]
    },
    {
      "cell_type": "code",
      "execution_count": null,
      "metadata": {
        "id": "D3K5yR-Pmt5a"
      },
      "outputs": [],
      "source": [
        "# Imports\n",
        "import pandas as pd\n",
        "import numpy as np\n",
        "import matplotlib.pyplot as plt\n",
        "# Models and selection methods\n",
        "from sklearn.tree import DecisionTreeRegressor, DecisionTreeClassifier, plot_tree\n",
        "from sklearn.model_selection import KFold, train_test_split, GridSearchCV\n",
        "from sklearn.linear_model import LinearRegression, Ridge, Lasso\n",
        "# Binary classifier metrics\n",
        "from sklearn.metrics import precision_score, recall_score, f1_score, matthews_corrcoef, confusion_matrix, accuracy_score\n",
        "# Linear regression metrics\n",
        "from sklearn.metrics import explained_variance_score, mean_squared_error, max_error, mean_absolute_error\n",
        "from scipy.stats import pearsonr"
      ]
    },
    {
      "cell_type": "code",
      "execution_count": null,
      "metadata": {
        "id": "KkoOzdqImt5d"
      },
      "outputs": [],
      "source": [
        "# Funcoes auxiliares\n",
        "def printRegStatistics(truth, preds):\n",
        "    print(\"The RVE is: \", explained_variance_score(truth, preds))\n",
        "    print(\"The rmse is: \", mean_squared_error(truth, preds, squared=False))\n",
        "    corr, pval = pearsonr(truth, preds)\n",
        "    print(\"The Correlation Score is is: %6.4f (p-value=%e)\\n\"%(corr,pval))\n",
        "    print(\"The Maximum Error is is: \", max_error(truth, preds))\n",
        "    print(\"The Mean Absolute Error is: \", mean_absolute_error(truth, preds))\n",
        "\n",
        "def CrossValidation(X_TRAIN, y_TRAIN, kf, model):\n",
        "    TRUTH=None\n",
        "    PREDS=None\n",
        "    for train_index, test_index in kf.split(X_TRAIN):\n",
        "        X_train, X_test = X_TRAIN[train_index], X_TRAIN[test_index]\n",
        "        y_train, y_test = y_TRAIN[train_index], y_TRAIN[test_index]\n",
        "        model.fit(X_train, y_train)\n",
        "        preds = model.predict(X_test)\n",
        "        if TRUTH is None:\n",
        "            PREDS=preds\n",
        "            TRUTH=y_test\n",
        "        else:\n",
        "            PREDS=np.hstack((PREDS, preds))\n",
        "            TRUTH=np.hstack((TRUTH, y_test))\n",
        "    return (TRUTH, PREDS)\n",
        "\n",
        "def displayPlot(preds, truth):\n",
        "    plt.figure(figsize=(5,5))\n",
        "    plt.scatter(preds, truth)\n",
        "    plt.axline((0, 0), slope=1, color=\"red\")\n",
        "    plt.grid()\n",
        "    plt.show()\n",
        "\n",
        "def printClassResults(truth, preds):\n",
        "    print(\"The Accuracy is: %7.4f\" % accuracy_score(truth, preds))\n",
        "    print(\"The Precision is: %7.4f\" % precision_score(truth, preds))\n",
        "    print(\"The Recall is: %7.4f\" % recall_score(truth, preds))\n",
        "    print(\"The F1 score is: %7.4f\" % f1_score(truth, preds))\n",
        "    print(\"The Matthews correlation coefficient is: %7.4f\" % matthews_corrcoef(truth, preds))\n",
        "    print()\n",
        "    print(\"This is the Confusion Matrix\")\n",
        "    print(pd.DataFrame(confusion_matrix(truth, preds)))"
      ]
    },
    {
      "cell_type": "markdown",
      "metadata": {
        "id": "BdoILDMcmt5i"
      },
      "source": [
        "## Objective 1\n",
        "Preparação do dataset"
      ]
    },
    {
      "cell_type": "code",
      "execution_count": 15,
      "metadata": {
        "id": "SrS1Nmo-mt5j"
      },
      "outputs": [],
      "source": [
        "# Criar dataframe\n",
        "parkinsons_objective1 = pd.read_csv(\"parkinsons_updrs.data\")\n",
        "# Remover a coluna total_UPDRS e subject#\n",
        "parkinsons_objective1.drop(columns=[\"subject#\",\"total_UPDRS\"], inplace=True)\n",
        "# Divisão do dataset em variaveis independentes e dependentes\n",
        "X_obj1 = parkinsons_objective1[set(parkinsons_objective1.columns) - {\"motor_UPDRS\"}]\n",
        "y_obj1 = parkinsons_objective1[\"motor_UPDRS\"]\n",
        "# Converter para np array\n",
        "Xc_obj1 = X_obj1.to_numpy()\n",
        "yc_obj1 = y_obj1.to_numpy()\n",
        "# Divisão do dataset em training set e independent validation set\n",
        "X_obj1_TRAIN, X_obj1_IVS, y_obj1_TRAIN, y_obj1_IVS = train_test_split(Xc_obj1, yc_obj1, test_size=0.10, random_state=314)\n",
        "# Kfold split dos dados de treino\n",
        "kf1 = KFold(n_splits=16, shuffle=True, random_state = 274)"
      ]
    },
    {
      "cell_type": "markdown",
      "metadata": {
        "id": "bIwUrcy1mt5l"
      },
      "source": [
        "### Fitting e validação dos modelos"
      ]
    },
    {
      "cell_type": "markdown",
      "metadata": {
        "id": "FI4OU690mt5m"
      },
      "source": [
        "##### Decision Tree Regressor"
      ]
    },
    {
      "cell_type": "code",
      "execution_count": 16,
      "metadata": {
        "id": "Seb5TECMmt5o",
        "outputId": "b84e6b20-b56b-44b7-b6a3-f0c1d5c12091",
        "colab": {
          "base_uri": "https://localhost:8080/",
          "height": 372
        }
      },
      "outputs": [
        {
          "output_type": "error",
          "ename": "KeyboardInterrupt",
          "evalue": "ignored",
          "traceback": [
            "\u001b[0;31m---------------------------------------------------------------------------\u001b[0m",
            "\u001b[0;31mKeyboardInterrupt\u001b[0m                         Traceback (most recent call last)",
            "\u001b[0;32m<ipython-input-16-082612e89c55>\u001b[0m in \u001b[0;36m<module>\u001b[0;34m\u001b[0m\n\u001b[1;32m      7\u001b[0m     DecisionTreeRegressor(), params, scoring=\"neg_mean_squared_error\", cv=kf1 , n_jobs=-1)\n\u001b[1;32m      8\u001b[0m \u001b[0;34m\u001b[0m\u001b[0m\n\u001b[0;32m----> 9\u001b[0;31m \u001b[0mgrid_search\u001b[0m\u001b[0;34m.\u001b[0m\u001b[0mfit\u001b[0m\u001b[0;34m(\u001b[0m\u001b[0mX_obj1_TRAIN\u001b[0m\u001b[0;34m,\u001b[0m \u001b[0my_obj1_TRAIN\u001b[0m\u001b[0;34m)\u001b[0m\u001b[0;34m\u001b[0m\u001b[0;34m\u001b[0m\u001b[0m\n\u001b[0m\u001b[1;32m     10\u001b[0m \u001b[0mprint\u001b[0m\u001b[0;34m(\u001b[0m\u001b[0mgrid_search\u001b[0m\u001b[0;34m.\u001b[0m\u001b[0mbest_params_\u001b[0m\u001b[0;34m)\u001b[0m\u001b[0;34m\u001b[0m\u001b[0;34m\u001b[0m\u001b[0m\n",
            "\u001b[0;32m/usr/local/lib/python3.7/dist-packages/sklearn/model_selection/_search.py\u001b[0m in \u001b[0;36mfit\u001b[0;34m(self, X, y, groups, **fit_params)\u001b[0m\n\u001b[1;32m    889\u001b[0m                 \u001b[0;32mreturn\u001b[0m \u001b[0mresults\u001b[0m\u001b[0;34m\u001b[0m\u001b[0;34m\u001b[0m\u001b[0m\n\u001b[1;32m    890\u001b[0m \u001b[0;34m\u001b[0m\u001b[0m\n\u001b[0;32m--> 891\u001b[0;31m             \u001b[0mself\u001b[0m\u001b[0;34m.\u001b[0m\u001b[0m_run_search\u001b[0m\u001b[0;34m(\u001b[0m\u001b[0mevaluate_candidates\u001b[0m\u001b[0;34m)\u001b[0m\u001b[0;34m\u001b[0m\u001b[0;34m\u001b[0m\u001b[0m\n\u001b[0m\u001b[1;32m    892\u001b[0m \u001b[0;34m\u001b[0m\u001b[0m\n\u001b[1;32m    893\u001b[0m             \u001b[0;31m# multimetric is determined here because in the case of a callable\u001b[0m\u001b[0;34m\u001b[0m\u001b[0;34m\u001b[0m\u001b[0;34m\u001b[0m\u001b[0m\n",
            "\u001b[0;32m/usr/local/lib/python3.7/dist-packages/sklearn/model_selection/_search.py\u001b[0m in \u001b[0;36m_run_search\u001b[0;34m(self, evaluate_candidates)\u001b[0m\n\u001b[1;32m   1390\u001b[0m     \u001b[0;32mdef\u001b[0m \u001b[0m_run_search\u001b[0m\u001b[0;34m(\u001b[0m\u001b[0mself\u001b[0m\u001b[0;34m,\u001b[0m \u001b[0mevaluate_candidates\u001b[0m\u001b[0;34m)\u001b[0m\u001b[0;34m:\u001b[0m\u001b[0;34m\u001b[0m\u001b[0;34m\u001b[0m\u001b[0m\n\u001b[1;32m   1391\u001b[0m         \u001b[0;34m\"\"\"Search all candidates in param_grid\"\"\"\u001b[0m\u001b[0;34m\u001b[0m\u001b[0;34m\u001b[0m\u001b[0m\n\u001b[0;32m-> 1392\u001b[0;31m         \u001b[0mevaluate_candidates\u001b[0m\u001b[0;34m(\u001b[0m\u001b[0mParameterGrid\u001b[0m\u001b[0;34m(\u001b[0m\u001b[0mself\u001b[0m\u001b[0;34m.\u001b[0m\u001b[0mparam_grid\u001b[0m\u001b[0;34m)\u001b[0m\u001b[0;34m)\u001b[0m\u001b[0;34m\u001b[0m\u001b[0;34m\u001b[0m\u001b[0m\n\u001b[0m\u001b[1;32m   1393\u001b[0m \u001b[0;34m\u001b[0m\u001b[0m\n\u001b[1;32m   1394\u001b[0m \u001b[0;34m\u001b[0m\u001b[0m\n",
            "\u001b[0;32m/usr/local/lib/python3.7/dist-packages/sklearn/model_selection/_search.py\u001b[0m in \u001b[0;36mevaluate_candidates\u001b[0;34m(candidate_params, cv, more_results)\u001b[0m\n\u001b[1;32m    849\u001b[0m                     )\n\u001b[1;32m    850\u001b[0m                     for (cand_idx, parameters), (split_idx, (train, test)) in product(\n\u001b[0;32m--> 851\u001b[0;31m                         \u001b[0menumerate\u001b[0m\u001b[0;34m(\u001b[0m\u001b[0mcandidate_params\u001b[0m\u001b[0;34m)\u001b[0m\u001b[0;34m,\u001b[0m \u001b[0menumerate\u001b[0m\u001b[0;34m(\u001b[0m\u001b[0mcv\u001b[0m\u001b[0;34m.\u001b[0m\u001b[0msplit\u001b[0m\u001b[0;34m(\u001b[0m\u001b[0mX\u001b[0m\u001b[0;34m,\u001b[0m \u001b[0my\u001b[0m\u001b[0;34m,\u001b[0m \u001b[0mgroups\u001b[0m\u001b[0;34m)\u001b[0m\u001b[0;34m)\u001b[0m\u001b[0;34m\u001b[0m\u001b[0;34m\u001b[0m\u001b[0m\n\u001b[0m\u001b[1;32m    852\u001b[0m                     )\n\u001b[1;32m    853\u001b[0m                 )\n",
            "\u001b[0;32m/usr/local/lib/python3.7/dist-packages/joblib/parallel.py\u001b[0m in \u001b[0;36m__call__\u001b[0;34m(self, iterable)\u001b[0m\n\u001b[1;32m   1096\u001b[0m \u001b[0;34m\u001b[0m\u001b[0m\n\u001b[1;32m   1097\u001b[0m             \u001b[0;32mwith\u001b[0m \u001b[0mself\u001b[0m\u001b[0;34m.\u001b[0m\u001b[0m_backend\u001b[0m\u001b[0;34m.\u001b[0m\u001b[0mretrieval_context\u001b[0m\u001b[0;34m(\u001b[0m\u001b[0;34m)\u001b[0m\u001b[0;34m:\u001b[0m\u001b[0;34m\u001b[0m\u001b[0;34m\u001b[0m\u001b[0m\n\u001b[0;32m-> 1098\u001b[0;31m                 \u001b[0mself\u001b[0m\u001b[0;34m.\u001b[0m\u001b[0mretrieve\u001b[0m\u001b[0;34m(\u001b[0m\u001b[0;34m)\u001b[0m\u001b[0;34m\u001b[0m\u001b[0;34m\u001b[0m\u001b[0m\n\u001b[0m\u001b[1;32m   1099\u001b[0m             \u001b[0;31m# Make sure that we get a last message telling us we are done\u001b[0m\u001b[0;34m\u001b[0m\u001b[0;34m\u001b[0m\u001b[0;34m\u001b[0m\u001b[0m\n\u001b[1;32m   1100\u001b[0m             \u001b[0melapsed_time\u001b[0m \u001b[0;34m=\u001b[0m \u001b[0mtime\u001b[0m\u001b[0;34m.\u001b[0m\u001b[0mtime\u001b[0m\u001b[0;34m(\u001b[0m\u001b[0;34m)\u001b[0m \u001b[0;34m-\u001b[0m \u001b[0mself\u001b[0m\u001b[0;34m.\u001b[0m\u001b[0m_start_time\u001b[0m\u001b[0;34m\u001b[0m\u001b[0;34m\u001b[0m\u001b[0m\n",
            "\u001b[0;32m/usr/local/lib/python3.7/dist-packages/joblib/parallel.py\u001b[0m in \u001b[0;36mretrieve\u001b[0;34m(self)\u001b[0m\n\u001b[1;32m    973\u001b[0m             \u001b[0;32mtry\u001b[0m\u001b[0;34m:\u001b[0m\u001b[0;34m\u001b[0m\u001b[0;34m\u001b[0m\u001b[0m\n\u001b[1;32m    974\u001b[0m                 \u001b[0;32mif\u001b[0m \u001b[0mgetattr\u001b[0m\u001b[0;34m(\u001b[0m\u001b[0mself\u001b[0m\u001b[0;34m.\u001b[0m\u001b[0m_backend\u001b[0m\u001b[0;34m,\u001b[0m \u001b[0;34m'supports_timeout'\u001b[0m\u001b[0;34m,\u001b[0m \u001b[0;32mFalse\u001b[0m\u001b[0;34m)\u001b[0m\u001b[0;34m:\u001b[0m\u001b[0;34m\u001b[0m\u001b[0;34m\u001b[0m\u001b[0m\n\u001b[0;32m--> 975\u001b[0;31m                     \u001b[0mself\u001b[0m\u001b[0;34m.\u001b[0m\u001b[0m_output\u001b[0m\u001b[0;34m.\u001b[0m\u001b[0mextend\u001b[0m\u001b[0;34m(\u001b[0m\u001b[0mjob\u001b[0m\u001b[0;34m.\u001b[0m\u001b[0mget\u001b[0m\u001b[0;34m(\u001b[0m\u001b[0mtimeout\u001b[0m\u001b[0;34m=\u001b[0m\u001b[0mself\u001b[0m\u001b[0;34m.\u001b[0m\u001b[0mtimeout\u001b[0m\u001b[0;34m)\u001b[0m\u001b[0;34m)\u001b[0m\u001b[0;34m\u001b[0m\u001b[0;34m\u001b[0m\u001b[0m\n\u001b[0m\u001b[1;32m    976\u001b[0m                 \u001b[0;32melse\u001b[0m\u001b[0;34m:\u001b[0m\u001b[0;34m\u001b[0m\u001b[0;34m\u001b[0m\u001b[0m\n\u001b[1;32m    977\u001b[0m                     \u001b[0mself\u001b[0m\u001b[0;34m.\u001b[0m\u001b[0m_output\u001b[0m\u001b[0;34m.\u001b[0m\u001b[0mextend\u001b[0m\u001b[0;34m(\u001b[0m\u001b[0mjob\u001b[0m\u001b[0;34m.\u001b[0m\u001b[0mget\u001b[0m\u001b[0;34m(\u001b[0m\u001b[0;34m)\u001b[0m\u001b[0;34m)\u001b[0m\u001b[0;34m\u001b[0m\u001b[0;34m\u001b[0m\u001b[0m\n",
            "\u001b[0;32m/usr/local/lib/python3.7/dist-packages/joblib/_parallel_backends.py\u001b[0m in \u001b[0;36mwrap_future_result\u001b[0;34m(future, timeout)\u001b[0m\n\u001b[1;32m    565\u001b[0m         AsyncResults.get from multiprocessing.\"\"\"\n\u001b[1;32m    566\u001b[0m         \u001b[0;32mtry\u001b[0m\u001b[0;34m:\u001b[0m\u001b[0;34m\u001b[0m\u001b[0;34m\u001b[0m\u001b[0m\n\u001b[0;32m--> 567\u001b[0;31m             \u001b[0;32mreturn\u001b[0m \u001b[0mfuture\u001b[0m\u001b[0;34m.\u001b[0m\u001b[0mresult\u001b[0m\u001b[0;34m(\u001b[0m\u001b[0mtimeout\u001b[0m\u001b[0;34m=\u001b[0m\u001b[0mtimeout\u001b[0m\u001b[0;34m)\u001b[0m\u001b[0;34m\u001b[0m\u001b[0;34m\u001b[0m\u001b[0m\n\u001b[0m\u001b[1;32m    568\u001b[0m         \u001b[0;32mexcept\u001b[0m \u001b[0mCfTimeoutError\u001b[0m \u001b[0;32mas\u001b[0m \u001b[0me\u001b[0m\u001b[0;34m:\u001b[0m\u001b[0;34m\u001b[0m\u001b[0;34m\u001b[0m\u001b[0m\n\u001b[1;32m    569\u001b[0m             \u001b[0;32mraise\u001b[0m \u001b[0mTimeoutError\u001b[0m \u001b[0;32mfrom\u001b[0m \u001b[0me\u001b[0m\u001b[0;34m\u001b[0m\u001b[0;34m\u001b[0m\u001b[0m\n",
            "\u001b[0;32m/usr/lib/python3.7/concurrent/futures/_base.py\u001b[0m in \u001b[0;36mresult\u001b[0;34m(self, timeout)\u001b[0m\n\u001b[1;32m    428\u001b[0m                 \u001b[0;32mreturn\u001b[0m \u001b[0mself\u001b[0m\u001b[0;34m.\u001b[0m\u001b[0m__get_result\u001b[0m\u001b[0;34m(\u001b[0m\u001b[0;34m)\u001b[0m\u001b[0;34m\u001b[0m\u001b[0;34m\u001b[0m\u001b[0m\n\u001b[1;32m    429\u001b[0m \u001b[0;34m\u001b[0m\u001b[0m\n\u001b[0;32m--> 430\u001b[0;31m             \u001b[0mself\u001b[0m\u001b[0;34m.\u001b[0m\u001b[0m_condition\u001b[0m\u001b[0;34m.\u001b[0m\u001b[0mwait\u001b[0m\u001b[0;34m(\u001b[0m\u001b[0mtimeout\u001b[0m\u001b[0;34m)\u001b[0m\u001b[0;34m\u001b[0m\u001b[0;34m\u001b[0m\u001b[0m\n\u001b[0m\u001b[1;32m    431\u001b[0m \u001b[0;34m\u001b[0m\u001b[0m\n\u001b[1;32m    432\u001b[0m             \u001b[0;32mif\u001b[0m \u001b[0mself\u001b[0m\u001b[0;34m.\u001b[0m\u001b[0m_state\u001b[0m \u001b[0;32min\u001b[0m \u001b[0;34m[\u001b[0m\u001b[0mCANCELLED\u001b[0m\u001b[0;34m,\u001b[0m \u001b[0mCANCELLED_AND_NOTIFIED\u001b[0m\u001b[0;34m]\u001b[0m\u001b[0;34m:\u001b[0m\u001b[0;34m\u001b[0m\u001b[0;34m\u001b[0m\u001b[0m\n",
            "\u001b[0;32m/usr/lib/python3.7/threading.py\u001b[0m in \u001b[0;36mwait\u001b[0;34m(self, timeout)\u001b[0m\n\u001b[1;32m    294\u001b[0m         \u001b[0;32mtry\u001b[0m\u001b[0;34m:\u001b[0m    \u001b[0;31m# restore state no matter what (e.g., KeyboardInterrupt)\u001b[0m\u001b[0;34m\u001b[0m\u001b[0;34m\u001b[0m\u001b[0m\n\u001b[1;32m    295\u001b[0m             \u001b[0;32mif\u001b[0m \u001b[0mtimeout\u001b[0m \u001b[0;32mis\u001b[0m \u001b[0;32mNone\u001b[0m\u001b[0;34m:\u001b[0m\u001b[0;34m\u001b[0m\u001b[0;34m\u001b[0m\u001b[0m\n\u001b[0;32m--> 296\u001b[0;31m                 \u001b[0mwaiter\u001b[0m\u001b[0;34m.\u001b[0m\u001b[0macquire\u001b[0m\u001b[0;34m(\u001b[0m\u001b[0;34m)\u001b[0m\u001b[0;34m\u001b[0m\u001b[0;34m\u001b[0m\u001b[0m\n\u001b[0m\u001b[1;32m    297\u001b[0m                 \u001b[0mgotit\u001b[0m \u001b[0;34m=\u001b[0m \u001b[0;32mTrue\u001b[0m\u001b[0;34m\u001b[0m\u001b[0;34m\u001b[0m\u001b[0m\n\u001b[1;32m    298\u001b[0m             \u001b[0;32melse\u001b[0m\u001b[0;34m:\u001b[0m\u001b[0;34m\u001b[0m\u001b[0;34m\u001b[0m\u001b[0m\n",
            "\u001b[0;31mKeyboardInterrupt\u001b[0m: "
          ]
        }
      ],
      "source": [
        "params = [\n",
        "    {\"max_depth\" : [6,8,10,12,14,16,18,20,22,24,26,28,30],\n",
        "    \"min_samples_leaf\" : [1,5,10,20],\n",
        "    \"min_samples_split\" : [2,5,10,20]}]\n",
        "\n",
        "grid_search = GridSearchCV(\n",
        "    DecisionTreeRegressor(), params, scoring=\"neg_mean_squared_error\", cv=kf1 , n_jobs=-1)\n",
        "\n",
        "grid_search.fit(X_obj1_TRAIN, y_obj1_TRAIN)\n",
        "print(grid_search.best_params_)"
      ]
    },
    {
      "cell_type": "code",
      "execution_count": null,
      "metadata": {
        "id": "OuGEkVDrmt5p",
        "outputId": "ed7bd98f-c099-4844-c95e-fe1e7c838a51",
        "colab": {
          "base_uri": "https://localhost:8080/",
          "height": 165
        }
      },
      "outputs": [
        {
          "output_type": "error",
          "ename": "NameError",
          "evalue": "ignored",
          "traceback": [
            "\u001b[0;31m---------------------------------------------------------------------------\u001b[0m",
            "\u001b[0;31mNameError\u001b[0m                                 Traceback (most recent call last)",
            "\u001b[0;32m<ipython-input-5-95b4d916abd1>\u001b[0m in \u001b[0;36m<module>\u001b[0;34m\u001b[0m\n\u001b[0;32m----> 1\u001b[0;31m \u001b[0mprintRegStatistics\u001b[0m\u001b[0;34m(\u001b[0m\u001b[0;34m*\u001b[0m\u001b[0mCrossValidation\u001b[0m\u001b[0;34m(\u001b[0m\u001b[0mX_obj1_TRAIN\u001b[0m\u001b[0;34m,\u001b[0m \u001b[0my_obj1_TRAIN\u001b[0m\u001b[0;34m,\u001b[0m \u001b[0mkf1\u001b[0m\u001b[0;34m,\u001b[0m \u001b[0mDecisionTreeRegressor\u001b[0m\u001b[0;34m(\u001b[0m\u001b[0;34m**\u001b[0m\u001b[0mgrid_search\u001b[0m\u001b[0;34m.\u001b[0m\u001b[0mbest_params_\u001b[0m\u001b[0;34m)\u001b[0m\u001b[0;34m)\u001b[0m\u001b[0;34m)\u001b[0m\u001b[0;34m\u001b[0m\u001b[0;34m\u001b[0m\u001b[0m\n\u001b[0m",
            "\u001b[0;31mNameError\u001b[0m: name 'X_obj1_TRAIN' is not defined"
          ]
        }
      ],
      "source": [
        "printRegStatistics(*CrossValidation(X_obj1_TRAIN, y_obj1_TRAIN, kf1, DecisionTreeRegressor(**grid_search.best_params_)))"
      ]
    },
    {
      "cell_type": "markdown",
      "metadata": {
        "id": "4H7wzTe3mt5q"
      },
      "source": [
        "#### Modelos Lineares"
      ]
    },
    {
      "cell_type": "markdown",
      "metadata": {
        "id": "WNvqSqwVmt5r"
      },
      "source": [
        "Regressão Linear"
      ]
    },
    {
      "cell_type": "code",
      "execution_count": null,
      "metadata": {
        "id": "1Hk5SW54mt5r"
      },
      "outputs": [],
      "source": [
        "printRegStatistics(*CrossValidation(X_obj1_TRAIN, y_obj1_TRAIN, kf1, LinearRegression()))"
      ]
    },
    {
      "cell_type": "markdown",
      "metadata": {
        "id": "jYx6O0_bmt5s"
      },
      "source": [
        "Ridge"
      ]
    },
    {
      "cell_type": "code",
      "execution_count": null,
      "metadata": {
        "id": "pmte_qu4mt5s"
      },
      "outputs": [],
      "source": [
        "params_linear = [\n",
        "    {\"alpha\" : [x*0.01 for x in range(1,100)]}]\n",
        "\n",
        "grid_search_ridge = GridSearchCV(\n",
        "    Ridge(), params_linear, scoring=\"neg_mean_squared_error\", cv=kf1, n_jobs=-1)\n",
        "\n",
        "grid_search_ridge.fit(X_obj1_TRAIN, y_obj1_TRAIN)\n",
        "print(grid_search_ridge.best_params_)"
      ]
    },
    {
      "cell_type": "code",
      "execution_count": null,
      "metadata": {
        "id": "5ixfbvRcmt5t"
      },
      "outputs": [],
      "source": [
        "printRegStatistics(*CrossValidation(X_obj1_TRAIN, y_obj1_TRAIN, kf1, grid_search_ridge.best_estimator_))"
      ]
    },
    {
      "cell_type": "markdown",
      "metadata": {
        "id": "lteesXdimt5u"
      },
      "source": [
        "LASSO"
      ]
    },
    {
      "cell_type": "code",
      "execution_count": null,
      "metadata": {
        "id": "g_lduqggmt5u"
      },
      "outputs": [],
      "source": [
        "params_linear = [\n",
        "    {\"alpha\" : [x*0.001 for x in range(1,100)]}]\n",
        "\n",
        "grid_search_lasso = GridSearchCV(\n",
        "    Lasso(), params_linear, scoring=\"neg_mean_squared_error\", cv=10, n_jobs=-1)\n",
        "\n",
        "grid_search_lasso.fit(X_obj1_TRAIN, y_obj1_TRAIN)\n",
        "print(grid_search_lasso.best_params_)"
      ]
    },
    {
      "cell_type": "code",
      "execution_count": null,
      "metadata": {
        "id": "EAeZ7OWvmt5v"
      },
      "outputs": [],
      "source": [
        "printRegStatistics(*CrossValidation(X_obj1_TRAIN, y_obj1_TRAIN, kf1, grid_search_lasso.best_estimator_))"
      ]
    },
    {
      "cell_type": "markdown",
      "metadata": {
        "id": "He6F6IZHmt5v"
      },
      "source": [
        "### Validação do Melhor Modelo"
      ]
    },
    {
      "cell_type": "code",
      "execution_count": null,
      "metadata": {
        "id": "x8OXDXbEmt5w",
        "outputId": "aba73eff-8b60-4c79-a889-21e99b9a9aa0"
      },
      "outputs": [
        {
          "name": "stdout",
          "output_type": "stream",
          "text": [
            "The RVE is:  0.88061064319521\n",
            "The rmse is:  2.7851371974518098\n",
            "The Correlation Score is is: 0.9404 (p-value=9.949585e-277)\n",
            "\n",
            "The Maximum Error is is:  20.366000000000003\n",
            "The Mean Absolute Error is:  0.8633773705517839\n"
          ]
        },
        {
          "data": {
            "image/png": "[encoded data removed]",
            "text/plain": [
              "<Figure size 360x360 with 1 Axes>"
            ]
          },
          "metadata": {
            "needs_background": "light"
          },
          "output_type": "display_data"
        }
      ],
      "source": [
        "# Melhor modelo foi DecisionTreeRegressor, com os seguintes parametros:\n",
        "# {'max_depth': 18, 'min_samples_leaf': 1, 'min_samples_split': 5}\n",
        "obj1_model = DecisionTreeRegressor(max_depth=18, min_samples_leaf=1, min_samples_split=5)\n",
        "obj1_model.fit(X_obj1_TRAIN, y_obj1_TRAIN)\n",
        "obj1_IVS_preds = obj1_model.predict(X_obj1_IVS)\n",
        "printRegStatistics(y_obj1_IVS, obj1_IVS_preds)\n",
        "displayPlot(obj1_IVS_preds, y_obj1_IVS)"
      ]
    },
    {
      "cell_type": "markdown",
      "metadata": {
        "id": "U6R5dL0cmt5x"
      },
      "source": [
        "## Objective 2\n",
        "Preparação do dataset"
      ]
    },
    {
      "cell_type": "code",
      "execution_count": null,
      "metadata": {
        "scrolled": true,
        "id": "EyHv9m6Ymt5x"
      },
      "outputs": [],
      "source": [
        "# Criar dataframe\n",
        "parkinsons_objective2 = pd.read_csv(\"parkinsons_updrs.data\")\n",
        "# Remover a coluna subject# e motor_UPDRS\n",
        "parkinsons_objective2.drop(columns=[\"subject#\",\"motor_UPDRS\"], inplace=True)\n",
        "# Transformação de total_UPDRS em variavel binaria\n",
        "parkinsons_objective2[\"total_UPDRS\"] = parkinsons_objective2[\"total_UPDRS\"].apply(lambda x : 1 if x > 40 else 0)\n",
        "X_obj2 = parkinsons_objective2[set(parkinsons_objective2.columns) - {\"total_UPDRS\"}]\n",
        "y_obj2 = parkinsons_objective2[\"total_UPDRS\"]\n",
        "# Converter para np array\n",
        "Xc_obj2 = X_obj2.to_numpy()\n",
        "yc_obj2 = y_obj2.to_numpy()\n",
        "# Divisprint(y_obj2)ão do dataset em training set e independent validation set\n",
        "X_obj2_TRAIN, X_obj2_IVS, y_obj2_TRAIN, y_obj2_IVS = train_test_split(Xc_obj2, yc_obj2, test_size=0.10, random_state=314)\n",
        "# Kfold split\n",
        "kf2 = KFold(n_splits=16, shuffle=True, random_state = 274)"
      ]
    },
    {
      "cell_type": "markdown",
      "metadata": {
        "id": "uwiVHWEBmt50"
      },
      "source": [
        "##### Decision Tree Classifier"
      ]
    },
    {
      "cell_type": "code",
      "execution_count": null,
      "metadata": {
        "id": "m3pUr_z-mt54",
        "outputId": "f40571f3-d638-4d06-9376-d7809620c29b"
      },
      "outputs": [
        {
          "data": {
            "text/plain": [
              "GridSearchCV(cv=10, estimator=DecisionTreeClassifier(), n_jobs=-1,\n",
              "             param_grid=[{'criterion': ['gini', 'entropy'],\n",
              "                          'max_depth': [6, 8, 10, 12, 14, 16, 18, 20, 22, 24,\n",
              "                                        26, 28, 30],\n",
              "                          'min_samples_leaf': [1, 5, 10, 20],\n",
              "                          'min_samples_split': [2, 5, 10, 20]}])"
            ]
          },
          "execution_count": 92,
          "metadata": {},
          "output_type": "execute_result"
        }
      ],
      "source": [
        "params = [\n",
        "    {\"max_depth\" : [6,8,10,12,14,16,18,20,22,24,26,28,30],\n",
        "    \"min_samples_leaf\" : [1,5,10,20],\n",
        "    \"min_samples_split\" : [2,5,10,20],\n",
        "    \"criterion\":['gini','entropy']}\n",
        "]\n",
        "\n",
        "grid_search = GridSearchCV(\n",
        "    DecisionTreeClassifier(), params, scoring=\"\", cv=kf2, n_jobs=-1)\n",
        "\n",
        "grid_search.fit(X_obj2_TRAIN, y_obj2_TRAIN)"
      ]
    },
    {
      "cell_type": "code",
      "execution_count": null,
      "metadata": {
        "id": "RDspZ9llmt54",
        "outputId": "ad47ace5-b5bb-42f0-8171-da519b5f3fe8"
      },
      "outputs": [
        {
          "data": {
            "text/plain": [
              "{'criterion': 'entropy',\n",
              " 'max_depth': 28,\n",
              " 'min_samples_leaf': 1,\n",
              " 'min_samples_split': 10}"
            ]
          },
          "execution_count": 93,
          "metadata": {},
          "output_type": "execute_result"
        }
      ],
      "source": [
        "grid_search.best_params_"
      ]
    },
    {
      "cell_type": "code",
      "execution_count": null,
      "metadata": {
        "id": "xZ9TNlwjmt55",
        "outputId": "c65b3065-e402-4324-9126-1d47ae6e9db0"
      },
      "outputs": [
        {
          "name": "stdout",
          "output_type": "stream",
          "text": [
            "The Accuracy is:  0.9949\n",
            "The Precision is:  0.9800\n",
            "The Recall is:  0.9899\n",
            "The F1 score is:  0.9849\n",
            "The Matthews correlation coefficient is:  0.9819\n",
            "\n",
            "This is the Confusion Matrix\n",
            "     0   1\n",
            "0  487   2\n",
            "1    1  98\n"
          ]
        }
      ],
      "source": [
        "dt = DecisionTreeClassifier(criterion=\"entropy\", max_depth=28, min_samples_leaf=1, min_samples_split=10)\n",
        "dt = dt.fit(X_obj2_TRAIN, y_obj2_TRAIN)\n",
        "ivs_obj2_preds= dt.predict(X_obj2_IVS)\n",
        "printClassResults(y_obj2_IVS, ivs_obj2_preds)"
      ]
    },
    {
      "cell_type": "markdown",
      "metadata": {
        "id": "uR759kd0mt55"
      },
      "source": [
        "## Modelo Linear para classificação"
      ]
    },
    {
      "cell_type": "markdown",
      "metadata": {
        "id": "6LsDqjzgmt55"
      },
      "source": [
        "Regressão Logística"
      ]
    },
    {
      "cell_type": "code",
      "execution_count": null,
      "metadata": {
        "id": "kd5qW9ZZmt56"
      },
      "outputs": [],
      "source": [
        "from sklearn.linear_model import LogisticRegression\n",
        "#X_obj2_TRAIN, X_obj2_IVS, y_obj2_TRAIN, y_obj2_IVS\n",
        "from sklearn.preprocessing import StandardScaler\n",
        "scaler = StandardScaler()\n",
        "scaler.fit(X_obj2_TRAIN)\n",
        "X_train = scaler.transform(X_obj2_TRAIN)\n",
        "X_test = scaler.transform(X_obj2_IVS)"
      ]
    },
    {
      "cell_type": "markdown",
      "metadata": {
        "id": "xlegIgfAmt56"
      },
      "source": []
    },
    {
      "cell_type": "code",
      "execution_count": null,
      "metadata": {
        "id": "456nmfrAmt56"
      },
      "outputs": [],
      "source": [
        "mdl = LogisticRegression(random_state=0).fit(X_train, y_obj2_TRAIN)"
      ]
    },
    {
      "cell_type": "code",
      "execution_count": null,
      "metadata": {
        "id": "ZIQaEa_Lmt57",
        "outputId": "9015646a-2ad3-4b7e-fbdc-bfc70c4ced1b"
      },
      "outputs": [
        {
          "name": "stdout",
          "output_type": "stream",
          "text": [
            "The bias is:  -1.8496746788452687\n",
            "The other parameters are: \n",
            "\t B01 ->    -0.414\n",
            "\t B02 ->     0.665\n",
            "\t B03 ->    -0.724\n",
            "\t B04 ->    -0.636\n",
            "\t B05 ->    -0.692\n",
            "\t B06 ->    -0.090\n",
            "\t B07 ->     0.965\n",
            "\t B08 ->    -0.446\n",
            "\t B09 ->    -0.090\n",
            "\t B10 ->     0.554\n",
            "\t B11 ->    -0.387\n",
            "\t B12 ->    -0.093\n",
            "\t B13 ->     0.287\n",
            "\t B14 ->    -0.006\n",
            "\t B15 ->    -0.251\n",
            "\t B16 ->     0.616\n",
            "\t B17 ->    -0.264\n",
            "\t B18 ->    -0.154\n",
            "\t B19 ->     0.651\n"
          ]
        }
      ],
      "source": [
        "print(\"The bias is: \", mdl.intercept_[0])\n",
        "print(\"The other parameters are: \")\n",
        "for i, beta in enumerate(mdl.coef_[0]):\n",
        "    print(\"\\t B%02d -> %9.3f\" % (i + 1, beta))\n",
        "\n"
      ]
    },
    {
      "cell_type": "code",
      "execution_count": null,
      "metadata": {
        "id": "j4UjA3OQmt57",
        "outputId": "b3c0da18-ac75-4891-aa00-0f2969d1f629"
      },
      "outputs": [
        {
          "name": "stdout",
          "output_type": "stream",
          "text": [
            "\t B07 ->     0.965\n",
            "\t B03 ->     0.724\n",
            "\t B05 ->     0.692\n",
            "\t B02 ->     0.665\n",
            "\t B19 ->     0.651\n"
          ]
        }
      ],
      "source": [
        "coefs = [(abs(beta), i) for i, beta in enumerate(mdl.coef_[0])]\n",
        "coefs.sort()\n",
        "coefs.reverse()\n",
        "for beta, i in coefs[:5]:\n",
        "    print(\"\\t B%02d -> %9.3f\" % (i + 1, beta))"
      ]
    },
    {
      "cell_type": "code",
      "execution_count": null,
      "metadata": {
        "id": "X4u8sk_hmt58"
      },
      "outputs": [],
      "source": [
        "#preds = mdl.predict(X_test)\n",
        "\n",
        "#printClassResults(y_obj2_IVS, preds)"
      ]
    },
    {
      "cell_type": "code",
      "execution_count": null,
      "metadata": {
        "id": "gHkNEZaymt59"
      },
      "outputs": [],
      "source": []
    }
  ],
  "metadata": {
    "kernelspec": {
      "display_name": "Python 3.9.12 ('base')",
      "language": "python",
      "name": "python3"
    },
    "language_info": {
      "codemirror_mode": {
        "name": "ipython",
        "version": 3
      },
      "file_extension": ".py",
      "mimetype": "text/x-python",
      "name": "python",
      "nbconvert_exporter": "python",
      "pygments_lexer": "ipython3",
      "version": "3.9.12"
    },
    "vscode": {
      "interpreter": {
        "hash": "ad2bdc8ecc057115af97d19610ffacc2b4e99fae6737bb82f5d7fb13d2f2c186"
      }
    },
    "colab": {
      "provenance": [],
      "toc_visible": true,
      "collapsed_sections": [],
      "include_colab_link": true
    }
  },
  "nbformat": 4,
  "nbformat_minor": 0
}