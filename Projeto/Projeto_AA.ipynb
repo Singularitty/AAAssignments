{
 "cells": [
  {
   "cell_type": "markdown",
   "id": "3a50288b",
   "metadata": {},
   "source": [
    "## Aprendizagem Automática - Projeto"
   ]
  },
  {
   "cell_type": "code",
   "execution_count": 1,
   "id": "c1b638ad",
   "metadata": {},
   "outputs": [],
   "source": [
    "# Imports\n",
    "import pandas as pd\n",
    "import numpy as np\n",
    "import matplotlib.pyplot as plt\n",
    "\n",
    "# Models and selection methods\n",
    "\n",
    "# Linear regression metrics\n",
    "from sklearn.metrics import explained_variance_score, mean_squared_error, max_error, mean_absolute_error\n",
    "from scipy.stats import pearsonr"
   ]
  },
  {
   "cell_type": "code",
   "execution_count": 2,
   "id": "8bca8bf7",
   "metadata": {},
   "outputs": [],
   "source": [
    "# Funcoes auxiliares\n",
    "\n",
    "#NÃO SEI SE É NECESSÁRIO POIS SÓ VAI SER PREVISTO 1/2 ANOS\n",
    "def printRegStatistics(truth, preds):\n",
    "    print(\"The RVE is: \", explained_variance_score(truth, preds))\n",
    "    print(\"The rmse is: \", mean_squared_error(truth, preds, squared=False))\n",
    "    corr, pval = pearsonr(truth, preds)\n",
    "    print(\"The Correlation Score is is: %6.4f (p-value=%e)\\n\"%(corr,pval))\n",
    "    print(\"The Maximum Error is is: \", max_error(truth, preds))\n",
    "    print(\"The Mean Absolute Error is: \", mean_absolute_error(truth, preds))\n",
    "    \n",
    "    "
   ]
  },
  {
   "cell_type": "markdown",
   "id": "f3a271aa",
   "metadata": {},
   "source": [
    "Importação dos datasets"
   ]
  },
  {
   "cell_type": "code",
   "execution_count": 3,
   "id": "5ad09d29",
   "metadata": {},
   "outputs": [],
   "source": [
    "fertility = pd.read_csv(\"fertility_rate.csv\")\n",
    "population= pd.read_csv(\"country_population.csv\")\n",
    "expectancy = pd.read_csv(\"life_expectancy.csv\")"
   ]
  },
  {
   "cell_type": "code",
   "execution_count": null,
   "id": "061739df",
   "metadata": {},
   "outputs": [],
   "source": []
  }
 ],
 "metadata": {
  "kernelspec": {
   "display_name": "Python 3 (ipykernel)",
   "language": "python",
   "name": "python3"
  },
  "language_info": {
   "codemirror_mode": {
    "name": "ipython",
    "version": 3
   },
   "file_extension": ".py",
   "mimetype": "text/x-python",
   "name": "python",
   "nbconvert_exporter": "python",
   "pygments_lexer": "ipython3",
   "version": "3.9.12"
  }
 },
 "nbformat": 4,
 "nbformat_minor": 5
}
