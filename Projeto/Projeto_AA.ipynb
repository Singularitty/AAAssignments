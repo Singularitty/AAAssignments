{
 "cells": [
  {
   "cell_type": "markdown",
   "id": "3a50288b",
   "metadata": {},
   "source": [
    "## Aprendizagem Automática - Projeto"
   ]
  },
  {
   "cell_type": "code",
   "execution_count": 2,
   "id": "c1b638ad",
   "metadata": {},
   "outputs": [],
   "source": [
    "# Imports\n",
    "import pandas as pd\n",
    "import numpy as np\n",
    "import matplotlib.pyplot as plt\n",
    "\n",
    "# Models and selection methods\n",
    "from sklearn.linear_model import LinearRegression\n",
    "from sklearn.tree import DecisionTreeRegressor\n",
    "from xgboost import XGBRegressor\n",
    "# Linear regression metrics\n",
    "from sklearn.metrics import explained_variance_score, mean_squared_error, max_error, mean_absolute_error\n",
    "from scipy.stats import pearsonr\n",
    "from sklearn.model_selection import GridSearchCV, cross_val_score\n",
    "\n",
    "from sklearn.preprocessing import LabelBinarizer"
   ]
  },
  {
   "cell_type": "code",
   "execution_count": 124,
   "id": "8bca8bf7",
   "metadata": {},
   "outputs": [],
   "source": [
    "# Funcoes auxiliares\n",
    "\n",
    "def printRegStatistics(truth, preds):\n",
    "    print(\"The RVE is: \", explained_variance_score(truth, preds))\n",
    "    print(\"The rmse is: \", mean_squared_error(truth, preds, squared=False))\n",
    "    corr, pval = pearsonr(truth, preds)\n",
    "    print(\"The Correlation Score is is: %6.4f (p-value=%e)\\n\"%(corr,pval))\n",
    "    print(\"The Maximum Error is is: \", max_error(truth, preds))\n",
    "    print(\"The Mean Absolute Error is: \", mean_absolute_error(truth, preds))\n",
    "\n",
    "#Função que lida com os nan nas df. Se o país não tiver nenhum dado -> drop. Se o país não tiver pelo menos 5 dados entre 2000\n",
    "# e 2016 -> drop. O resto fica\n",
    "\n",
    "def drop_nan(df):\n",
    "    pais_nan=[]\n",
    "    for pais in df[\"Country Name\"].index:\n",
    "        nan_val=list(pd.DataFrame(df.iloc[pais][4:]).count(axis=1)) #ver se os valores são nan\n",
    "        if sum(nan_val)==0: #se for tudo nan\n",
    "            pais_nan.append(pais)\n",
    "        elif sum(nan_val[40:])<=5: #Se entre 2000 e 2016 não houver 5 valores, drop\n",
    "            pais_nan.append(pais)\n",
    "\n",
    "    df=df.drop(pais_nan, axis=0)\n",
    "    df = df.reset_index(drop=True)\n",
    "    return df\n",
    "\n",
    "#Função que escolha o dataframe até um certo ano apenas, que remove os países que contenham nan nesse intervalo de tempo\n",
    "\n",
    "def indexing(dataf, ano_i):\n",
    "    X_list=dataf.drop(columns=dataf.iloc[:,[1,2,3]]+dataf.loc[:,[str(i) for i in range(1960,ano_i)]])\n",
    "    X_list=X_list.T\n",
    "    X_list=X_list.rename(columns=X_list.iloc[0]).drop(X_list.index[0])\n",
    "    return X_list\n",
    "\n",
    "#Cria um DataFrame com os dados de um país e respetivos lags\n",
    "\n",
    "def lags(df, lag, país):\n",
    "    new_df=pd.DataFrame()\n",
    "    new_df[\"dados\"]=df[país]\n",
    "    colunas = [str(i) + \"lag\" for i in range(1,lag+1)]\n",
    "\n",
    "    for i,k in enumerate(colunas):\n",
    "        new_df[k] = new_df[\"dados\"].shift(+i+1)\n",
    "    new_df=new_df.dropna()\n",
    "    return new_df\n",
    "\n",
    "#Função que cria o dataset necessário para as timeseries. As time series são todas unidas numa só coluna e os países respetivos\n",
    "# a essa série temporal recebem um 1. Também concatena os lags no início da df.\n",
    "\n",
    "def time_series(df, lag):\n",
    "    binario = LabelBinarizer().fit(df.columns)\n",
    "    df_final= pd.DataFrame()\n",
    "    for pais in df.columns:\n",
    "        pais_bin=pd.DataFrame(data=list(binario.transform([pais]))*len(df[pais]),\n",
    "                             columns=binario.classes_,\n",
    "                             index=df.index)\n",
    "        #Agora juntamos os lags e os dados respetivos\n",
    "        df_mid=pd.DataFrame()\n",
    "        df_mid=pd.concat((df_mid,lags(df, lag, pais),pais_bin),axis=1).dropna()\n",
    "\n",
    "        #Finalmente, concatenamos tudo numa só DataFrame\n",
    "        df_final = pd.concat((df_final, df_mid), sort=True)\n",
    "        df_fina=df_final.dropna()\n",
    "    return df_final"
   ]
  },
  {
   "cell_type": "markdown",
   "id": "f3a271aa",
   "metadata": {},
   "source": [
    "Importação dos datasets"
   ]
  },
  {
   "cell_type": "code",
   "execution_count": 109,
   "id": "5ad09d29",
   "metadata": {},
   "outputs": [],
   "source": [
    "# Dados 1960-2016\n",
    "fertility = pd.read_csv(\"fertility_rate.csv\")\n",
    "population= pd.read_csv(\"country_population.csv\")\n",
    "expectancy = pd.read_csv(\"life_expectancy.csv\")\n",
    "\n",
    "fertility=drop_nan(fertility)\n",
    "population=drop_nan(population)\n",
    "expectancy=drop_nan(expectancy)\n",
    "\n",
    "# Dados 1960-2020\n",
    "fertility_2020 = pd.read_csv(\"fertility_2020.csv\")\n",
    "population_2020 = pd.read_csv(\"population_2020.csv\")\n",
    "expectancy_2020 = pd.read_csv(\"life_2020.csv\")\n",
    "\n",
    "#Criar os data frames\n",
    "\n",
    "X_fert=indexing(fertility, 1960)\n",
    "X_pop=indexing(population, 1960)\n",
    "X_exp=indexing(expectancy, 1960)\n",
    "\n",
    "fert_2020 = indexing(fertility_2020, 1960)\n",
    "pop_2020 = indexing(population_2020, 1960)\n",
    "exp_2020 = indexing(expectancy_2020, 1960)"
   ]
  },
  {
   "cell_type": "markdown",
   "id": "f9da1025",
   "metadata": {},
   "source": [
    "Escolher a sample de 10 países aleatórios"
   ]
  },
  {
   "cell_type": "code",
   "execution_count": 119,
   "id": "7d192e18",
   "metadata": {},
   "outputs": [
    {
     "name": "stdout",
     "output_type": "stream",
     "text": [
      "['Late-demographic dividend', 'Namibia', 'OECD members', 'Singapore', 'Ecuador', 'Qatar', 'Uzbekistan', 'Ethiopia', 'Angola', 'Kazakhstan']\n"
     ]
    }
   ],
   "source": [
    "sample = list(fertility[\"Country Name\"].sample(n=10, random_state=483))\n",
    "print(sample)"
   ]
  },
  {
   "cell_type": "markdown",
   "id": "a1656131",
   "metadata": {},
   "source": [
    "IGNORAR ESTA PARTE COM O GRAFICO"
   ]
  },
  {
   "cell_type": "code",
   "execution_count": 283,
   "id": "42867192",
   "metadata": {},
   "outputs": [],
   "source": [
    "df=lags(X_fert,5, 'Afghanistan')\n",
    "dfc=df.to_numpy()\n",
    "X_train=np.delete(dfc,0,1)\n",
    "y_train=dfc[:,0]\n",
    "#print(X_train.shape)\n",
    "X_train_fin,y_train_fin, X_test, y_test= X_train[:35], y_train[:35], X_train[-17:], y_train[-17:]\n",
    "#print(y_train_fin, y_test)\n",
    "lin_model=LinearRegression()\n",
    "lin_model.fit(X_train_fin,y_train_fin)\n",
    "pred=lin_model.predict(X_test)\n",
    "#print(X_test)\n",
    "#df"
   ]
  },
  {
   "cell_type": "code",
   "execution_count": 284,
   "id": "7ea249db",
   "metadata": {},
   "outputs": [
    {
     "data": {
      "image/png": "[encoded data removed]",
      "text/plain": [
       "<Figure size 432x288 with 1 Axes>"
      ]
     },
     "metadata": {
      "needs_background": "light"
     },
     "output_type": "display_data"
    },
    {
     "name": "stdout",
     "output_type": "stream",
     "text": [
      "The RVE is:  0.9994022090438207\n",
      "The rmse is:  0.03450009002803316\n",
      "The Correlation Score is is: 1.0000 (p-value=1.595293e-35)\n",
      "\n",
      "The Maximum Error is is:  0.07286944579075971\n",
      "The Mean Absolute Error is:  0.02621630869165384\n"
     ]
    }
   ],
   "source": [
    "plt.plot(pred, label=\"pred\")\n",
    "plt.plot(y_test,label=\"true\")\n",
    "plt.show()\n",
    "printRegStatistics(y_test, pred)"
   ]
  },
  {
   "cell_type": "code",
   "execution_count": 60,
   "id": "c587677f",
   "metadata": {},
   "outputs": [
    {
     "data": {
      "text/plain": [
       "array([4.55583905])"
      ]
     },
     "execution_count": 60,
     "metadata": {},
     "output_type": "execute_result"
    }
   ],
   "source": [
    "lin_model.predict([[4.635, 4.802, 4.981, 5.174, 5.38]])"
   ]
  },
  {
   "cell_type": "markdown",
   "id": "5e915b50",
   "metadata": {},
   "source": [
    "O CODIGO VOLTA AQUI"
   ]
  },
  {
   "cell_type": "markdown",
   "id": "5530a029",
   "metadata": {},
   "source": [
    "Vamos continuar a transformar o nosso dataset, de forma a que fiquem todas as séries temporais numa só coluna, a referência respetiva de que país se refere a série temporal e os respetivos lags para cada valor. "
   ]
  },
  {
   "cell_type": "code",
   "execution_count": 116,
   "id": "b0521184",
   "metadata": {
    "scrolled": false
   },
   "outputs": [],
   "source": [
    "#Versão final dos datasets\n",
    "X_pop_fin=time_series(X_pop,5)\n",
    "X_fert_fin=time_series(X_fert,5)\n",
    "X_exp_fin=time_series(X_exp,5)"
   ]
  },
  {
   "cell_type": "code",
   "execution_count": 133,
   "id": "2d7eb6fe",
   "metadata": {},
   "outputs": [],
   "source": [
    "#X_pop_fin.to_csv(\"dfpop.csv\")\n",
    "#X_fert_fin.to_csv(\"dffert.csv\")\n",
    "#X_exp_fin.to_csv(\"dfexp.csv\")"
   ]
  },
  {
   "cell_type": "markdown",
   "id": "fbe32633",
   "metadata": {},
   "source": [
    "Com isto feito, podemos passar ao treino dos modelos"
   ]
  },
  {
   "cell_type": "code",
   "execution_count": 222,
   "id": "65c1667f",
   "metadata": {},
   "outputs": [],
   "source": [
    "# Função para criar um dataframe X para um dado dataset, pais e ano\n",
    "def createX(dataset : pd.DataFrame, country : str, year : int) -> pd.DataFrame:\n",
    "    previousYearCountryData = dataset.loc[(dataset[country] == 1) & (dataset.index.get_level_values(0) == str(year - 1))]\n",
    "    newX = previousYearCountryData.copy()\n",
    "    newX.index = [str(year)]\n",
    "    for i in range(5,2,-1):\n",
    "        newX.at[str(year), str(i)+\"lag\"] = newX.at[str(year),str(i-1)+\"lag\"]\n",
    "    newX.at[str(year), \"1lag\"] = newX.at[str(year),\"dados\"]\n",
    "    newX.drop([\"dados\"], axis=1, inplace=True)\n",
    "    return newX\n",
    "\n",
    "# Função para prever dados novos para um dado dataset ano e pais a partir do modelo treinado dado\n",
    "def predictAndCalculateDelta(model, dataset : pd.DataFrame, country : str, year : int) -> float:\n",
    "    previousYearCountryData = dataset.loc[(dataset[country] == 1) & (dataset.index.get_level_values(0) == str(year - 1))]\n",
    "    newX = createX(dataset, country, year)\n",
    "    x = model.predict(newX)\n",
    "    x_previous = previousYearCountryData.at[str(year-1),\"dados\"]\n",
    "    delta = x - x_previous\n",
    "    return x[0], delta[0]\n",
    "\n",
    "# Imprime os resultados de forma agradavel\n",
    "def printResults(prediction, real, country : str, year : int):\n",
    "    pred_x, pred_delta = prediction\n",
    "    real_x, real_delta = real\n",
    "    abs_error, rel_error = calculateErrors(real_x, pred_x)\n",
    "    print(\"Country: %s\" % country)\n",
    "    print(\"Year: %d\" % year)\n",
    "    print(\"Predictions\".ljust(30) + \"Real\")\n",
    "    print((\"Data: %.2f\" % pred_x).ljust(30) + (\"%.2f\" % real_x))\n",
    "    print((\"Delta: %.2f\" % pred_delta).ljust(30) + (\"%.2f\" % real_delta))\n",
    "    print(\"Error:   Absolute = %.2f    Relative = %.5f\\n\" % (abs_error, rel_error))\n",
    "\n",
    "# Vai buscar o valor para um dado ano e pais e calcula o delta\n",
    "def determineRealResults(dataset : pd.DataFrame, country : str, year : int):\n",
    "    real_data = dataset.at[str(year), country]\n",
    "    previous_year_data = dataset.at[str(year-1), country]\n",
    "    delta = real_data - previous_year_data\n",
    "    return real_data, delta\n",
    "\n",
    "# Erro relativo e absoluto\n",
    "def calculateErrors(real, pred):\n",
    "    abs_error = abs(pred - real)\n",
    "    relative_error = abs_error / real\n",
    "    return abs_error, relative_error"
   ]
  },
  {
   "cell_type": "markdown",
   "id": "3c01e00f",
   "metadata": {},
   "source": [
    "##### Teste para population"
   ]
  },
  {
   "cell_type": "code",
   "execution_count": 7,
   "id": "a20f5434",
   "metadata": {},
   "outputs": [
    {
     "data": {
      "text/plain": [
       "DecisionTreeRegressor()"
      ]
     },
     "execution_count": 7,
     "metadata": {},
     "output_type": "execute_result"
    }
   ],
   "source": [
    "y_pop = X_pop_fin[\"dados\"]\n",
    "X_pop = X_pop_fin[list(X_pop_fin.columns)[:-1]] # Remover dados que é a ultima coluna\n",
    "\n",
    "reg = DecisionTreeRegressor()\n",
    "reg.fit(X_pop, y_pop)"
   ]
  },
  {
   "cell_type": "code",
   "execution_count": 8,
   "id": "4bf639e7",
   "metadata": {},
   "outputs": [
    {
     "name": "stdout",
     "output_type": "stream",
     "text": [
      "Country: Brunei Darussalam\n",
      "Year: 2017\n",
      "Predictions                   Real\n",
      "Data: 430475.00               430276.00\n",
      "Delta: 7279.00                4282.00\n",
      "Error:   Absolute = 199.00    Relative = 0.00046\n",
      "\n",
      "Country: Tajikistan\n",
      "Year: 2017\n",
      "Predictions                   Real\n",
      "Data: 8954809.00              8925525.00\n",
      "Delta: 219858.00              200207.00\n",
      "Error:   Absolute = 29284.00    Relative = 0.00328\n",
      "\n",
      "Country: Niger\n",
      "Year: 2017\n",
      "Predictions                   Real\n",
      "Data: 21202118.00             21737922.00\n",
      "Delta: 529131.00              816179.00\n",
      "Error:   Absolute = 535804.00    Relative = 0.02465\n",
      "\n",
      "Country: Small states\n",
      "Year: 2017\n",
      "Predictions                   Real\n",
      "Data: 40634948.00             40727936.00\n",
      "Delta: 1006039.00             695127.00\n",
      "Error:   Absolute = 92988.00    Relative = 0.00228\n",
      "\n",
      "Country: Monaco\n",
      "Year: 2017\n",
      "Predictions                   Real\n",
      "Data: 38499.00                37044.00\n",
      "Delta: 0.00                   -27.00\n",
      "Error:   Absolute = 1455.00    Relative = 0.03928\n",
      "\n"
     ]
    }
   ],
   "source": [
    "random_country_pop_stats = []\n",
    "for country in sample[:5]:\n",
    "    pred = predictAndCalculateDelta(reg, X_pop_fin, country, 2017)\n",
    "    real = determineRealResults(pop_2020, country, 2017)\n",
    "    random_country_pop_stats.append((country, pred, real))\n",
    "    printResults(pred, real, country, 2017)"
   ]
  },
  {
   "cell_type": "code",
   "execution_count": 9,
   "id": "42524573",
   "metadata": {},
   "outputs": [
    {
     "name": "stdout",
     "output_type": "stream",
     "text": [
      "Country: Guatemala\n",
      "Year: 2017\n",
      "Predictions                   Real\n",
      "Data: 17040190.00             16087418.00\n",
      "Delta: 457721.00              259728.00\n",
      "Error:   Absolute = 952772.00    Relative = 0.05922\n",
      "\n",
      "Country: Hong Kong SAR, China\n",
      "Year: 2017\n",
      "Predictions                   Real\n",
      "Data: 7376998.00              7393200.00\n",
      "Delta: 40398.00               56600.00\n",
      "Error:   Absolute = 16202.00    Relative = 0.00219\n",
      "\n",
      "Country: Latin America & Caribbean\n",
      "Year: 2017\n",
      "Predictions                   Real\n",
      "Data: 665502284.00            633797190.00\n",
      "Delta: 27833607.00            6128720.00\n",
      "Error:   Absolute = 31705094.00    Relative = 0.05002\n",
      "\n",
      "Country: Slovak Republic\n",
      "Year: 2017\n",
      "Predictions                   Real\n",
      "Data: 5430798.00              5439232.00\n",
      "Delta: 0.00                   8434.00\n",
      "Error:   Absolute = 8434.00    Relative = 0.00155\n",
      "\n",
      "Country: French Polynesia\n",
      "Year: 2017\n",
      "Predictions                   Real\n",
      "Data: 281585.00               295450.00\n",
      "Delta: 1377.00                1909.00\n",
      "Error:   Absolute = 13865.00    Relative = 0.04693\n",
      "\n"
     ]
    }
   ],
   "source": [
    "for country in sample[5:]:\n",
    "    pred = predictAndCalculateDelta(reg, X_pop_fin, country, 2017)\n",
    "    real = determineRealResults(pop_2020, country, 2017)\n",
    "    random_country_pop_stats.append((country, pred, real))\n",
    "    printResults(pred, real, country, 2017)"
   ]
  },
  {
   "cell_type": "code",
   "execution_count": 10,
   "id": "8454b58c",
   "metadata": {},
   "outputs": [
    {
     "data": {
      "text/plain": [
       "[('Brunei Darussalam', (430475.0, 7279.0), (430276.0, 4282.0)),\n",
       " ('Tajikistan', (8954809.0, 219858.0), (8925525.0, 200207.0)),\n",
       " ('Niger', (21202118.0, 529131.0), (21737922.0, 816179.0)),\n",
       " ('Small states', (40634948.0, 1006039.0), (40727936.0, 695127.0)),\n",
       " ('Monaco', (38499.0, 0.0), (37044.0, -27.0)),\n",
       " ('Guatemala', (17040190.0, 457721.0), (16087418.0, 259728.0)),\n",
       " ('Hong Kong SAR, China', (7376998.0, 40398.0), (7393200.0, 56600.0)),\n",
       " ('Latin America & Caribbean',\n",
       "  (665502284.0, 27833607.0),\n",
       "  (633797190.0, 6128720.0)),\n",
       " ('Slovak Republic', (5430798.0, 0.0), (5439232.0, 8434.0)),\n",
       " ('French Polynesia', (281585.0, 1377.0), (295450.0, 1909.0))]"
      ]
     },
     "execution_count": 10,
     "metadata": {},
     "output_type": "execute_result"
    }
   ],
   "source": [
    "random_country_pop_stats"
   ]
  },
  {
   "cell_type": "markdown",
   "id": "1c0a7761",
   "metadata": {},
   "source": [
    "Vamos passar à validação do modelo. Vamos separar o nosso dataset numa certa percentagem para training e outra para testing. Para tal, temos de voltar ao dataset e dividi-lo devidamente, fazendo uma divisão de 70% para training e 30% para testing."
   ]
  },
  {
   "cell_type": "code",
   "execution_count": 302,
   "id": "87334c23",
   "metadata": {},
   "outputs": [],
   "source": [
    "#Cria os dataframes para o treino e teste\n",
    "\n",
    "def set_train_test(df,lag): \n",
    "    train_set=pd.DataFrame()\n",
    "    test_set=pd.DataFrame()\n",
    "    paises=list(df.columns[lag:-1])\n",
    "    \n",
    "    for pais in paises:\n",
    "        dados_pais=df[df[str(pais)]==1]\n",
    "        pais_train= dados_pais[:int(0.7*(len(dados_pais.index)))] #Training set com 70% dos dados\n",
    "        pais_test=dados_pais[int(0.7*(len(dados_pais.index))):] #Test de 30%\n",
    "        \n",
    "        train_set=pd.concat((train_set,pais_train))\n",
    "        test_set=pd.concat((test_set, pais_test))\n",
    "   \n",
    "    return train_set, test_set\n",
    "    \n",
    "\n",
    "def valid_pais(df, df_train, df_test, país):\n",
    "    \n",
    "    X_train, y_train = df_train[list(df_train.columns)[:-1]], df_train[\"dados\"]\n",
    "    X_test, y_test = df_test[list(df_test.columns)[:-1]], df_test[\"dados\"]\n",
    "\n",
    "    reg = LinearRegression()\n",
    "    reg.fit(X_train, y_train)\n",
    "    \n",
    "    previsoes=[]\n",
    "    anos=[int(i) for i in list(df_test[df_test[país]==1].index)] #lista de anos que vaõ ser testados\n",
    "    for ano in anos:\n",
    "        pred = predictAndCalculateDelta(reg, df, país, ano)     \n",
    "        previsoes.append(pred[0])\n",
    "        \n",
    "    y_test_país=df_test[df_test[país]==1][\"dados\"]\n",
    "    return anos, previsoes, y_test_país"
   ]
  },
  {
   "cell_type": "code",
   "execution_count": null,
   "id": "9b749bc3",
   "metadata": {},
   "outputs": [],
   "source": [
    "#Façamos os nossos datasets para validação.\n",
    "X_pop_train, X_pop_test= set_train_test(X_pop_fin,5)\n",
    "X_fert_train, X_fert_test= set_train_test(X_fert_fin,5)\n",
    "X_exp_train, X_exp_test= set_train_test(X_exp_fin,5)\n",
    "\n",
    "#E agora validamos os modelos, utilizando os países do nosso sample\n",
    "#Só um teste\n",
    "anos_aruba, prev_aruba, reais_aruba=valid_pais(X_fert_fin, X_fert_train, X_fert_test, 'Aruba')\n"
   ]
  },
  {
   "cell_type": "code",
   "execution_count": 306,
   "id": "92eeb88e",
   "metadata": {},
   "outputs": [
    {
     "data": {
      "image/png": "[encoded data removed]",
      "text/plain": [
       "<Figure size 432x288 with 1 Axes>"
      ]
     },
     "metadata": {
      "needs_background": "light"
     },
     "output_type": "display_data"
    },
    {
     "name": "stdout",
     "output_type": "stream",
     "text": [
      "The RVE is:  0.9484870824535065\n",
      "The rmse is:  0.005984119198928664\n",
      "The Correlation Score is is: 0.9761 (p-value=1.136921e-10)\n",
      "\n",
      "The Maximum Error is is:  0.010146194884072646\n",
      "The Mean Absolute Error is:  0.005423565372072031\n"
     ]
    }
   ],
   "source": [
    "plt.plot(anos_aruba, prev_aruba)\n",
    "plt.plot(anos_aruba, reais_aruba)\n",
    "plt.legend([\"prev\",\"real\"])\n",
    "plt.show()\n",
    "printRegStatistics(reais_aruba, prev_aruba)"
   ]
  }
 ],
 "metadata": {
  "kernelspec": {
   "display_name": "Python 3 (ipykernel)",
   "language": "python",
   "name": "python3"
  },
  "language_info": {
   "codemirror_mode": {
    "name": "ipython",
    "version": 3
   },
   "file_extension": ".py",
   "mimetype": "text/x-python",
   "name": "python",
   "nbconvert_exporter": "python",
   "pygments_lexer": "ipython3",
   "version": "3.9.12"
  },
  "vscode": {
   "interpreter": {
    "hash": "ad2bdc8ecc057115af97d19610ffacc2b4e99fae6737bb82f5d7fb13d2f2c186"
   }
  }
 },
 "nbformat": 4,
 "nbformat_minor": 5
}
